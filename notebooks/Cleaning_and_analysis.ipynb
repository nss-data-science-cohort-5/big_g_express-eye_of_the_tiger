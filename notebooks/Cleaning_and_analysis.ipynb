{
 "cells": [
  {
   "cell_type": "code",
   "execution_count": 75,
   "id": "8751c12c",
   "metadata": {},
   "outputs": [],
   "source": [
    "import pandas as pd\n",
    "import numpy as np\n",
    "import matplotlib.pyplot as plt"
   ]
  },
  {
   "cell_type": "code",
   "execution_count": 76,
   "id": "ee8db893",
   "metadata": {},
   "outputs": [
    {
     "name": "stderr",
     "output_type": "stream",
     "text": [
      "C:\\Users\\jacob\\anaconda3\\lib\\site-packages\\IPython\\core\\interactiveshell.py:3165: DtypeWarning: Columns (15) have mixed types.Specify dtype option on import or set low_memory=False.\n",
      "  has_raised = await self.run_ast_nodes(code_ast.body, cell_name,\n"
     ]
    }
   ],
   "source": [
    "faults_df = pd.read_csv('../data/J1939Faults.csv')"
   ]
  },
  {
   "cell_type": "code",
   "execution_count": 77,
   "id": "a28bc6d4",
   "metadata": {},
   "outputs": [],
   "source": [
    "pd.set_option('display.max_columns', 300)"
   ]
  },
  {
   "cell_type": "code",
   "execution_count": 78,
   "id": "2e8b5193",
   "metadata": {
    "scrolled": true
   },
   "outputs": [
    {
     "data": {
      "text/plain": [
       "(1187335, 20)"
      ]
     },
     "execution_count": 78,
     "metadata": {},
     "output_type": "execute_result"
    }
   ],
   "source": [
    "faults_df.shape"
   ]
  },
  {
   "cell_type": "code",
   "execution_count": 79,
   "id": "9fbce758",
   "metadata": {},
   "outputs": [
    {
     "data": {
      "text/plain": [
       "RecordID                   int64\n",
       "ESS_Id                     int64\n",
       "EventTimeStamp            object\n",
       "eventDescription          object\n",
       "actionDescription        float64\n",
       "ecuSoftwareVersion        object\n",
       "ecuSerialNumber           object\n",
       "ecuModel                  object\n",
       "ecuMake                   object\n",
       "ecuSource                  int64\n",
       "spn                        int64\n",
       "fmi                        int64\n",
       "active                      bool\n",
       "activeTransitionCount      int64\n",
       "faultValue               float64\n",
       "EquipmentID               object\n",
       "MCTNumber                  int64\n",
       "Latitude                 float64\n",
       "Longitude                float64\n",
       "LocationTimeStamp         object\n",
       "dtype: object"
      ]
     },
     "execution_count": 79,
     "metadata": {},
     "output_type": "execute_result"
    }
   ],
   "source": [
    "faults_df.dtypes"
   ]
  },
  {
   "cell_type": "code",
   "execution_count": 80,
   "id": "e41d7561",
   "metadata": {},
   "outputs": [
    {
     "data": {
      "text/plain": [
       "1182354"
      ]
     },
     "execution_count": 80,
     "metadata": {},
     "output_type": "execute_result"
    }
   ],
   "source": [
    "faults_df.ESS_Id.nunique()"
   ]
  },
  {
   "cell_type": "code",
   "execution_count": 81,
   "id": "158e31f6",
   "metadata": {
    "scrolled": true
   },
   "outputs": [],
   "source": [
    "faults_df['EventTimeStamp'] = faults_df['EventTimeStamp'].astype('datetime64[ns]')"
   ]
  },
  {
   "cell_type": "code",
   "execution_count": 82,
   "id": "f7cb4f55",
   "metadata": {},
   "outputs": [],
   "source": [
    "faults_df['LocationTimeStamp'] = faults_df['LocationTimeStamp'].astype('datetime64[ns]')"
   ]
  },
  {
   "cell_type": "code",
   "execution_count": 83,
   "id": "83d6f297",
   "metadata": {
    "scrolled": true
   },
   "outputs": [
    {
     "data": {
      "text/html": [
       "<div>\n",
       "<style scoped>\n",
       "    .dataframe tbody tr th:only-of-type {\n",
       "        vertical-align: middle;\n",
       "    }\n",
       "\n",
       "    .dataframe tbody tr th {\n",
       "        vertical-align: top;\n",
       "    }\n",
       "\n",
       "    .dataframe thead th {\n",
       "        text-align: right;\n",
       "    }\n",
       "</style>\n",
       "<table border=\"1\" class=\"dataframe\">\n",
       "  <thead>\n",
       "    <tr style=\"text-align: right;\">\n",
       "      <th></th>\n",
       "      <th>RecordID</th>\n",
       "      <th>ESS_Id</th>\n",
       "      <th>EventTimeStamp</th>\n",
       "      <th>eventDescription</th>\n",
       "      <th>actionDescription</th>\n",
       "      <th>ecuSoftwareVersion</th>\n",
       "      <th>ecuSerialNumber</th>\n",
       "      <th>ecuModel</th>\n",
       "      <th>ecuMake</th>\n",
       "      <th>ecuSource</th>\n",
       "      <th>spn</th>\n",
       "      <th>fmi</th>\n",
       "      <th>active</th>\n",
       "      <th>activeTransitionCount</th>\n",
       "      <th>faultValue</th>\n",
       "      <th>EquipmentID</th>\n",
       "      <th>MCTNumber</th>\n",
       "      <th>Latitude</th>\n",
       "      <th>Longitude</th>\n",
       "      <th>LocationTimeStamp</th>\n",
       "    </tr>\n",
       "  </thead>\n",
       "  <tbody>\n",
       "    <tr>\n",
       "      <th>4999</th>\n",
       "      <td>5000</td>\n",
       "      <td>1060204</td>\n",
       "      <td>2015-02-25 06:38:40</td>\n",
       "      <td>Incorrect Data J1939 Network #1 Primary Vehicl...</td>\n",
       "      <td>NaN</td>\n",
       "      <td>unknown</td>\n",
       "      <td>unknown</td>\n",
       "      <td>unknown</td>\n",
       "      <td>unknown</td>\n",
       "      <td>11</td>\n",
       "      <td>639</td>\n",
       "      <td>2</td>\n",
       "      <td>False</td>\n",
       "      <td>127</td>\n",
       "      <td>NaN</td>\n",
       "      <td>R1764</td>\n",
       "      <td>105442911</td>\n",
       "      <td>36.001296</td>\n",
       "      <td>-86.501481</td>\n",
       "      <td>2015-02-25 06:38:36</td>\n",
       "    </tr>\n",
       "    <tr>\n",
       "      <th>4952</th>\n",
       "      <td>4953</td>\n",
       "      <td>1059704</td>\n",
       "      <td>2015-02-25 06:08:43</td>\n",
       "      <td>Incorrect Data J1939 Network #1 Primary Vehicl...</td>\n",
       "      <td>NaN</td>\n",
       "      <td>unknown</td>\n",
       "      <td>unknown</td>\n",
       "      <td>unknown</td>\n",
       "      <td>unknown</td>\n",
       "      <td>11</td>\n",
       "      <td>639</td>\n",
       "      <td>2</td>\n",
       "      <td>True</td>\n",
       "      <td>127</td>\n",
       "      <td>NaN</td>\n",
       "      <td>R1764</td>\n",
       "      <td>105442911</td>\n",
       "      <td>36.001296</td>\n",
       "      <td>-86.501435</td>\n",
       "      <td>2015-02-25 06:10:53</td>\n",
       "    </tr>\n",
       "    <tr>\n",
       "      <th>6446</th>\n",
       "      <td>6447</td>\n",
       "      <td>1090499</td>\n",
       "      <td>2015-02-26 13:50:59</td>\n",
       "      <td>NaN</td>\n",
       "      <td>NaN</td>\n",
       "      <td>05317106*04119044*051914190353*09400015*G1*BDR*</td>\n",
       "      <td>79751302</td>\n",
       "      <td>6X1u13D1500000000</td>\n",
       "      <td>CMMNS</td>\n",
       "      <td>0</td>\n",
       "      <td>5848</td>\n",
       "      <td>9</td>\n",
       "      <td>False</td>\n",
       "      <td>1</td>\n",
       "      <td>NaN</td>\n",
       "      <td>R1762</td>\n",
       "      <td>105442816</td>\n",
       "      <td>39.953379</td>\n",
       "      <td>-81.937407</td>\n",
       "      <td>2015-02-26 13:50:54</td>\n",
       "    </tr>\n",
       "    <tr>\n",
       "      <th>6438</th>\n",
       "      <td>6439</td>\n",
       "      <td>1089561</td>\n",
       "      <td>2015-02-26 13:12:11</td>\n",
       "      <td>NaN</td>\n",
       "      <td>NaN</td>\n",
       "      <td>05317106*04119044*051914190353*09400015*G1*BDR*</td>\n",
       "      <td>79751302</td>\n",
       "      <td>6X1u13D1500000000</td>\n",
       "      <td>CMMNS</td>\n",
       "      <td>0</td>\n",
       "      <td>5848</td>\n",
       "      <td>9</td>\n",
       "      <td>True</td>\n",
       "      <td>1</td>\n",
       "      <td>NaN</td>\n",
       "      <td>R1762</td>\n",
       "      <td>105442816</td>\n",
       "      <td>39.952870</td>\n",
       "      <td>-81.936990</td>\n",
       "      <td>2015-02-26 13:12:48</td>\n",
       "    </tr>\n",
       "    <tr>\n",
       "      <th>4494</th>\n",
       "      <td>4495</td>\n",
       "      <td>1052146</td>\n",
       "      <td>2015-02-24 16:24:05</td>\n",
       "      <td>Low (Severity Medium) Catalyst Tank Level</td>\n",
       "      <td>NaN</td>\n",
       "      <td>05317106*04119044*051914190353*09400015*G1*BDR*</td>\n",
       "      <td>79751302</td>\n",
       "      <td>6X1u13D1500000000</td>\n",
       "      <td>CMMNS</td>\n",
       "      <td>0</td>\n",
       "      <td>1761</td>\n",
       "      <td>18</td>\n",
       "      <td>False</td>\n",
       "      <td>11</td>\n",
       "      <td>NaN</td>\n",
       "      <td>R1762</td>\n",
       "      <td>105442816</td>\n",
       "      <td>39.551851</td>\n",
       "      <td>-86.045925</td>\n",
       "      <td>2015-02-24 16:24:00</td>\n",
       "    </tr>\n",
       "    <tr>\n",
       "      <th>...</th>\n",
       "      <td>...</td>\n",
       "      <td>...</td>\n",
       "      <td>...</td>\n",
       "      <td>...</td>\n",
       "      <td>...</td>\n",
       "      <td>...</td>\n",
       "      <td>...</td>\n",
       "      <td>...</td>\n",
       "      <td>...</td>\n",
       "      <td>...</td>\n",
       "      <td>...</td>\n",
       "      <td>...</td>\n",
       "      <td>...</td>\n",
       "      <td>...</td>\n",
       "      <td>...</td>\n",
       "      <td>...</td>\n",
       "      <td>...</td>\n",
       "      <td>...</td>\n",
       "      <td>...</td>\n",
       "      <td>...</td>\n",
       "    </tr>\n",
       "    <tr>\n",
       "      <th>48303</th>\n",
       "      <td>49415</td>\n",
       "      <td>2363162</td>\n",
       "      <td>2015-05-11 13:11:20</td>\n",
       "      <td>Incorrect Data J1939 Network #1 Primary Vehicl...</td>\n",
       "      <td>NaN</td>\n",
       "      <td>unknown</td>\n",
       "      <td>unknown</td>\n",
       "      <td>unknown</td>\n",
       "      <td>unknown</td>\n",
       "      <td>11</td>\n",
       "      <td>639</td>\n",
       "      <td>2</td>\n",
       "      <td>True</td>\n",
       "      <td>127</td>\n",
       "      <td>NaN</td>\n",
       "      <td>301</td>\n",
       "      <td>105431712</td>\n",
       "      <td>36.189398</td>\n",
       "      <td>-82.795601</td>\n",
       "      <td>2015-05-11 13:11:57</td>\n",
       "    </tr>\n",
       "    <tr>\n",
       "      <th>47213</th>\n",
       "      <td>48325</td>\n",
       "      <td>2346621</td>\n",
       "      <td>2015-05-10 07:59:25</td>\n",
       "      <td>Incorrect Data J1939 Network #1 Primary Vehicl...</td>\n",
       "      <td>NaN</td>\n",
       "      <td>unknown</td>\n",
       "      <td>unknown</td>\n",
       "      <td>unknown</td>\n",
       "      <td>unknown</td>\n",
       "      <td>11</td>\n",
       "      <td>639</td>\n",
       "      <td>2</td>\n",
       "      <td>False</td>\n",
       "      <td>127</td>\n",
       "      <td>NaN</td>\n",
       "      <td>301</td>\n",
       "      <td>105431712</td>\n",
       "      <td>35.586805</td>\n",
       "      <td>-86.443472</td>\n",
       "      <td>2015-05-10 07:59:20</td>\n",
       "    </tr>\n",
       "    <tr>\n",
       "      <th>47186</th>\n",
       "      <td>48298</td>\n",
       "      <td>2346346</td>\n",
       "      <td>2015-05-10 07:11:34</td>\n",
       "      <td>Incorrect Data J1939 Network #1 Primary Vehicl...</td>\n",
       "      <td>NaN</td>\n",
       "      <td>unknown</td>\n",
       "      <td>unknown</td>\n",
       "      <td>unknown</td>\n",
       "      <td>unknown</td>\n",
       "      <td>11</td>\n",
       "      <td>639</td>\n",
       "      <td>2</td>\n",
       "      <td>True</td>\n",
       "      <td>127</td>\n",
       "      <td>NaN</td>\n",
       "      <td>301</td>\n",
       "      <td>105431712</td>\n",
       "      <td>36.067083</td>\n",
       "      <td>-86.433842</td>\n",
       "      <td>2015-05-10 07:12:11</td>\n",
       "    </tr>\n",
       "    <tr>\n",
       "      <th>35080</th>\n",
       "      <td>36192</td>\n",
       "      <td>2123154</td>\n",
       "      <td>2015-04-28 05:29:21</td>\n",
       "      <td>High (Severity High) Engine Speed</td>\n",
       "      <td>NaN</td>\n",
       "      <td>unknown</td>\n",
       "      <td>unknown</td>\n",
       "      <td>unknown</td>\n",
       "      <td>unknown</td>\n",
       "      <td>49</td>\n",
       "      <td>190</td>\n",
       "      <td>0</td>\n",
       "      <td>True</td>\n",
       "      <td>126</td>\n",
       "      <td>NaN</td>\n",
       "      <td>301</td>\n",
       "      <td>105431712</td>\n",
       "      <td>36.066666</td>\n",
       "      <td>-86.435000</td>\n",
       "      <td>2015-04-28 05:30:37</td>\n",
       "    </tr>\n",
       "    <tr>\n",
       "      <th>33355</th>\n",
       "      <td>34467</td>\n",
       "      <td>2092800</td>\n",
       "      <td>2015-04-26 06:16:16</td>\n",
       "      <td>High (Severity High) Engine Speed</td>\n",
       "      <td>NaN</td>\n",
       "      <td>unknown</td>\n",
       "      <td>unknown</td>\n",
       "      <td>unknown</td>\n",
       "      <td>unknown</td>\n",
       "      <td>49</td>\n",
       "      <td>190</td>\n",
       "      <td>0</td>\n",
       "      <td>True</td>\n",
       "      <td>126</td>\n",
       "      <td>NaN</td>\n",
       "      <td>301</td>\n",
       "      <td>105431712</td>\n",
       "      <td>36.066527</td>\n",
       "      <td>-86.435277</td>\n",
       "      <td>2015-04-24 16:51:57</td>\n",
       "    </tr>\n",
       "  </tbody>\n",
       "</table>\n",
       "<p>1187335 rows × 20 columns</p>\n",
       "</div>"
      ],
      "text/plain": [
       "       RecordID   ESS_Id      EventTimeStamp  \\\n",
       "4999       5000  1060204 2015-02-25 06:38:40   \n",
       "4952       4953  1059704 2015-02-25 06:08:43   \n",
       "6446       6447  1090499 2015-02-26 13:50:59   \n",
       "6438       6439  1089561 2015-02-26 13:12:11   \n",
       "4494       4495  1052146 2015-02-24 16:24:05   \n",
       "...         ...      ...                 ...   \n",
       "48303     49415  2363162 2015-05-11 13:11:20   \n",
       "47213     48325  2346621 2015-05-10 07:59:25   \n",
       "47186     48298  2346346 2015-05-10 07:11:34   \n",
       "35080     36192  2123154 2015-04-28 05:29:21   \n",
       "33355     34467  2092800 2015-04-26 06:16:16   \n",
       "\n",
       "                                        eventDescription  actionDescription  \\\n",
       "4999   Incorrect Data J1939 Network #1 Primary Vehicl...                NaN   \n",
       "4952   Incorrect Data J1939 Network #1 Primary Vehicl...                NaN   \n",
       "6446                                                 NaN                NaN   \n",
       "6438                                                 NaN                NaN   \n",
       "4494           Low (Severity Medium) Catalyst Tank Level                NaN   \n",
       "...                                                  ...                ...   \n",
       "48303  Incorrect Data J1939 Network #1 Primary Vehicl...                NaN   \n",
       "47213  Incorrect Data J1939 Network #1 Primary Vehicl...                NaN   \n",
       "47186  Incorrect Data J1939 Network #1 Primary Vehicl...                NaN   \n",
       "35080                  High (Severity High) Engine Speed                NaN   \n",
       "33355                  High (Severity High) Engine Speed                NaN   \n",
       "\n",
       "                                    ecuSoftwareVersion ecuSerialNumber  \\\n",
       "4999                                           unknown         unknown   \n",
       "4952                                           unknown         unknown   \n",
       "6446   05317106*04119044*051914190353*09400015*G1*BDR*        79751302   \n",
       "6438   05317106*04119044*051914190353*09400015*G1*BDR*        79751302   \n",
       "4494   05317106*04119044*051914190353*09400015*G1*BDR*        79751302   \n",
       "...                                                ...             ...   \n",
       "48303                                          unknown         unknown   \n",
       "47213                                          unknown         unknown   \n",
       "47186                                          unknown         unknown   \n",
       "35080                                          unknown         unknown   \n",
       "33355                                          unknown         unknown   \n",
       "\n",
       "                ecuModel  ecuMake  ecuSource   spn  fmi  active  \\\n",
       "4999             unknown  unknown         11   639    2   False   \n",
       "4952             unknown  unknown         11   639    2    True   \n",
       "6446   6X1u13D1500000000    CMMNS          0  5848    9   False   \n",
       "6438   6X1u13D1500000000    CMMNS          0  5848    9    True   \n",
       "4494   6X1u13D1500000000    CMMNS          0  1761   18   False   \n",
       "...                  ...      ...        ...   ...  ...     ...   \n",
       "48303            unknown  unknown         11   639    2    True   \n",
       "47213            unknown  unknown         11   639    2   False   \n",
       "47186            unknown  unknown         11   639    2    True   \n",
       "35080            unknown  unknown         49   190    0    True   \n",
       "33355            unknown  unknown         49   190    0    True   \n",
       "\n",
       "       activeTransitionCount  faultValue EquipmentID  MCTNumber   Latitude  \\\n",
       "4999                     127         NaN       R1764  105442911  36.001296   \n",
       "4952                     127         NaN       R1764  105442911  36.001296   \n",
       "6446                       1         NaN       R1762  105442816  39.953379   \n",
       "6438                       1         NaN       R1762  105442816  39.952870   \n",
       "4494                      11         NaN       R1762  105442816  39.551851   \n",
       "...                      ...         ...         ...        ...        ...   \n",
       "48303                    127         NaN         301  105431712  36.189398   \n",
       "47213                    127         NaN         301  105431712  35.586805   \n",
       "47186                    127         NaN         301  105431712  36.067083   \n",
       "35080                    126         NaN         301  105431712  36.066666   \n",
       "33355                    126         NaN         301  105431712  36.066527   \n",
       "\n",
       "       Longitude   LocationTimeStamp  \n",
       "4999  -86.501481 2015-02-25 06:38:36  \n",
       "4952  -86.501435 2015-02-25 06:10:53  \n",
       "6446  -81.937407 2015-02-26 13:50:54  \n",
       "6438  -81.936990 2015-02-26 13:12:48  \n",
       "4494  -86.045925 2015-02-24 16:24:00  \n",
       "...          ...                 ...  \n",
       "48303 -82.795601 2015-05-11 13:11:57  \n",
       "47213 -86.443472 2015-05-10 07:59:20  \n",
       "47186 -86.433842 2015-05-10 07:12:11  \n",
       "35080 -86.435000 2015-04-28 05:30:37  \n",
       "33355 -86.435277 2015-04-24 16:51:57  \n",
       "\n",
       "[1187335 rows x 20 columns]"
      ]
     },
     "execution_count": 83,
     "metadata": {},
     "output_type": "execute_result"
    }
   ],
   "source": [
    "faults_df.sort_values(['EquipmentID', 'EventTimeStamp'], ascending=False)"
   ]
  },
  {
   "cell_type": "code",
   "execution_count": 84,
   "id": "e2df0b04",
   "metadata": {},
   "outputs": [],
   "source": [
    "onboard = pd.read_csv('../data/VehicleDiagnosticOnboardData.csv')"
   ]
  },
  {
   "cell_type": "code",
   "execution_count": 85,
   "id": "061b85c5",
   "metadata": {
    "scrolled": true
   },
   "outputs": [
    {
     "data": {
      "text/html": [
       "<div>\n",
       "<style scoped>\n",
       "    .dataframe tbody tr th:only-of-type {\n",
       "        vertical-align: middle;\n",
       "    }\n",
       "\n",
       "    .dataframe tbody tr th {\n",
       "        vertical-align: top;\n",
       "    }\n",
       "\n",
       "    .dataframe thead th {\n",
       "        text-align: right;\n",
       "    }\n",
       "</style>\n",
       "<table border=\"1\" class=\"dataframe\">\n",
       "  <thead>\n",
       "    <tr style=\"text-align: right;\">\n",
       "      <th></th>\n",
       "      <th>Id</th>\n",
       "      <th>Name</th>\n",
       "      <th>Value</th>\n",
       "      <th>FaultId</th>\n",
       "    </tr>\n",
       "  </thead>\n",
       "  <tbody>\n",
       "    <tr>\n",
       "      <th>21</th>\n",
       "      <td>22</td>\n",
       "      <td>IgnStatus</td>\n",
       "      <td>True</td>\n",
       "      <td>2</td>\n",
       "    </tr>\n",
       "    <tr>\n",
       "      <th>22</th>\n",
       "      <td>23</td>\n",
       "      <td>LampStatus</td>\n",
       "      <td>1279</td>\n",
       "      <td>2</td>\n",
       "    </tr>\n",
       "  </tbody>\n",
       "</table>\n",
       "</div>"
      ],
      "text/plain": [
       "    Id        Name Value  FaultId\n",
       "21  22   IgnStatus  True        2\n",
       "22  23  LampStatus  1279        2"
      ]
     },
     "execution_count": 85,
     "metadata": {},
     "output_type": "execute_result"
    }
   ],
   "source": [
    "onboard[onboard['FaultId'] == 2]"
   ]
  },
  {
   "cell_type": "code",
   "execution_count": 86,
   "id": "da344f1d",
   "metadata": {},
   "outputs": [
    {
     "data": {
      "text/plain": [
       "1989"
      ]
     },
     "execution_count": 86,
     "metadata": {},
     "output_type": "execute_result"
    }
   ],
   "source": [
    "faults_df['ecuSerialNumber'].nunique()"
   ]
  },
  {
   "cell_type": "code",
   "execution_count": 87,
   "id": "4f992347",
   "metadata": {},
   "outputs": [
    {
     "data": {
      "text/plain": [
       "1927"
      ]
     },
     "execution_count": 87,
     "metadata": {},
     "output_type": "execute_result"
    }
   ],
   "source": [
    "faults_df['EquipmentID'].nunique()"
   ]
  },
  {
   "cell_type": "code",
   "execution_count": 88,
   "id": "c31ad2ce",
   "metadata": {},
   "outputs": [
    {
     "data": {
      "text/plain": [
       "0                 False\n",
       "1                     0\n",
       "2              96.74375\n",
       "3                     0\n",
       "4                    11\n",
       "               ...     \n",
       "12821621          181.4\n",
       "12821622          False\n",
       "12821623           14.1\n",
       "12821624    28606.65625\n",
       "12821625           1023\n",
       "Name: Value, Length: 12821626, dtype: object"
      ]
     },
     "execution_count": 88,
     "metadata": {},
     "output_type": "execute_result"
    }
   ],
   "source": [
    "onboard['Value'].astype(str)"
   ]
  },
  {
   "cell_type": "code",
   "execution_count": 89,
   "id": "16c4ffd8",
   "metadata": {},
   "outputs": [],
   "source": [
    "ob_pivot = onboard.pivot(index = ['FaultId'], columns='Name', values='Value').rename_axis(None).reset_index().rename(columns={'index':'RecordID'})"
   ]
  },
  {
   "cell_type": "code",
   "execution_count": 90,
   "id": "0bacdc08",
   "metadata": {},
   "outputs": [],
   "source": [
    "full_data = pd.merge(faults_df, ob_pivot)"
   ]
  },
  {
   "cell_type": "code",
   "execution_count": 91,
   "id": "1fe33db9",
   "metadata": {},
   "outputs": [
    {
     "data": {
      "text/plain": [
       "RecordID                              int64\n",
       "ESS_Id                                int64\n",
       "EventTimeStamp               datetime64[ns]\n",
       "eventDescription                     object\n",
       "actionDescription                   float64\n",
       "ecuSoftwareVersion                   object\n",
       "ecuSerialNumber                      object\n",
       "ecuModel                             object\n",
       "ecuMake                              object\n",
       "ecuSource                             int64\n",
       "spn                                   int64\n",
       "fmi                                   int64\n",
       "active                                 bool\n",
       "activeTransitionCount                 int64\n",
       "faultValue                          float64\n",
       "EquipmentID                          object\n",
       "MCTNumber                             int64\n",
       "Latitude                            float64\n",
       "Longitude                           float64\n",
       "LocationTimeStamp            datetime64[ns]\n",
       "AcceleratorPedal                     object\n",
       "BarometricPressure                   object\n",
       "CruiseControlActive                  object\n",
       "CruiseControlSetSpeed                object\n",
       "DistanceLtd                          object\n",
       "EngineCoolantTemperature             object\n",
       "EngineLoad                           object\n",
       "EngineOilPressure                    object\n",
       "EngineOilTemperature                 object\n",
       "EngineRpm                            object\n",
       "EngineTimeLtd                        object\n",
       "FuelLevel                            object\n",
       "FuelLtd                              object\n",
       "FuelRate                             object\n",
       "FuelTemperature                      object\n",
       "IgnStatus                            object\n",
       "IntakeManifoldTemperature            object\n",
       "LampStatus                           object\n",
       "ParkingBrake                         object\n",
       "ServiceDistance                      object\n",
       "Speed                                object\n",
       "SwitchedBatteryVoltage               object\n",
       "Throttle                             object\n",
       "TurboBoostPressure                   object\n",
       "dtype: object"
      ]
     },
     "execution_count": 91,
     "metadata": {},
     "output_type": "execute_result"
    }
   ],
   "source": [
    "full_data.dtypes"
   ]
  },
  {
   "cell_type": "code",
   "execution_count": 92,
   "id": "9b06ce4e",
   "metadata": {},
   "outputs": [],
   "source": [
    "cond = [(full_data['spn'] == 1569) | (full_data['spn'] == 5246), full_data['spn']!=1569]\n",
    "choices = [True, False]\n",
    "full_data['derate'] = np.select(cond, choices)"
   ]
  },
  {
   "cell_type": "code",
   "execution_count": 93,
   "id": "3328e5c0",
   "metadata": {},
   "outputs": [],
   "source": [
    "cond2 = [(full_data['spn'] == 5246), (full_data['spn'] != 5246)]\n",
    "choices2 = [True, False]\n",
    "\n",
    "full_data['full_derate'] = np.select(cond2, choices2)"
   ]
  },
  {
   "cell_type": "code",
   "execution_count": 95,
   "id": "21c54a31",
   "metadata": {},
   "outputs": [],
   "source": [
    "problem_cols = ['AcceleratorPedal',\n",
    " 'BarometricPressure',\n",
    " 'CruiseControlActive',\n",
    " 'CruiseControlSetSpeed',\n",
    " 'DistanceLtd',\n",
    " 'EngineCoolantTemperature',\n",
    " 'EngineLoad',\n",
    " 'EngineOilPressure',\n",
    " 'EngineOilTemperature',\n",
    " 'EngineRpm',\n",
    " 'EngineTimeLtd',\n",
    " 'FuelLevel',\n",
    " 'FuelLtd',\n",
    " 'FuelRate',\n",
    " 'FuelTemperature',\n",
    " 'IgnStatus',\n",
    " 'IntakeManifoldTemperature',\n",
    " 'LampStatus',\n",
    " 'ParkingBrake',\n",
    " 'ServiceDistance',\n",
    " 'Speed',\n",
    " 'SwitchedBatteryVoltage',\n",
    " 'Throttle',\n",
    " 'TurboBoostPressure']"
   ]
  },
  {
   "cell_type": "code",
   "execution_count": 96,
   "id": "66152303",
   "metadata": {},
   "outputs": [],
   "source": [
    "for x in problem_cols:\n",
    "    try:\n",
    "        full_data[x] = full_data[x].str.replace(',','').astype(float)\n",
    "    except ValueError:\n",
    "        full_data[x] = full_data[x]"
   ]
  },
  {
   "cell_type": "code",
   "execution_count": 97,
   "id": "7d879566",
   "metadata": {},
   "outputs": [
    {
     "data": {
      "text/plain": [
       "RecordID                              int64\n",
       "ESS_Id                                int64\n",
       "EventTimeStamp               datetime64[ns]\n",
       "eventDescription                     object\n",
       "actionDescription                   float64\n",
       "ecuSoftwareVersion                   object\n",
       "ecuSerialNumber                      object\n",
       "ecuModel                             object\n",
       "ecuMake                              object\n",
       "ecuSource                             int64\n",
       "spn                                   int64\n",
       "fmi                                   int64\n",
       "active                                 bool\n",
       "activeTransitionCount                 int64\n",
       "faultValue                          float64\n",
       "EquipmentID                          object\n",
       "MCTNumber                             int64\n",
       "Latitude                            float64\n",
       "Longitude                           float64\n",
       "LocationTimeStamp            datetime64[ns]\n",
       "AcceleratorPedal                    float64\n",
       "BarometricPressure                  float64\n",
       "CruiseControlActive                  object\n",
       "CruiseControlSetSpeed               float64\n",
       "DistanceLtd                         float64\n",
       "EngineCoolantTemperature            float64\n",
       "EngineLoad                          float64\n",
       "EngineOilPressure                   float64\n",
       "EngineOilTemperature                float64\n",
       "EngineRpm                           float64\n",
       "EngineTimeLtd                       float64\n",
       "FuelLevel                           float64\n",
       "FuelLtd                             float64\n",
       "FuelRate                            float64\n",
       "FuelTemperature                     float64\n",
       "IgnStatus                            object\n",
       "IntakeManifoldTemperature           float64\n",
       "LampStatus                          float64\n",
       "ParkingBrake                         object\n",
       "ServiceDistance                     float64\n",
       "Speed                               float64\n",
       "SwitchedBatteryVoltage              float64\n",
       "Throttle                            float64\n",
       "TurboBoostPressure                  float64\n",
       "derate                                int32\n",
       "full_derate                           int32\n",
       "dtype: object"
      ]
     },
     "execution_count": 97,
     "metadata": {},
     "output_type": "execute_result"
    }
   ],
   "source": [
    "full_data.dtypes"
   ]
  },
  {
   "cell_type": "code",
   "execution_count": 98,
   "id": "310a5a2e",
   "metadata": {},
   "outputs": [],
   "source": [
    "comp = pd.DataFrame(full_data.groupby('derate')[problem_cols].mean())"
   ]
  },
  {
   "cell_type": "code",
   "execution_count": 99,
   "id": "35865198",
   "metadata": {},
   "outputs": [
    {
     "data": {
      "text/html": [
       "<div>\n",
       "<style scoped>\n",
       "    .dataframe tbody tr th:only-of-type {\n",
       "        vertical-align: middle;\n",
       "    }\n",
       "\n",
       "    .dataframe tbody tr th {\n",
       "        vertical-align: top;\n",
       "    }\n",
       "\n",
       "    .dataframe thead th {\n",
       "        text-align: right;\n",
       "    }\n",
       "</style>\n",
       "<table border=\"1\" class=\"dataframe\">\n",
       "  <thead>\n",
       "    <tr style=\"text-align: right;\">\n",
       "      <th></th>\n",
       "      <th>AcceleratorPedal</th>\n",
       "      <th>BarometricPressure</th>\n",
       "      <th>CruiseControlSetSpeed</th>\n",
       "      <th>DistanceLtd</th>\n",
       "      <th>EngineCoolantTemperature</th>\n",
       "      <th>EngineLoad</th>\n",
       "      <th>EngineOilPressure</th>\n",
       "      <th>EngineOilTemperature</th>\n",
       "      <th>EngineRpm</th>\n",
       "      <th>EngineTimeLtd</th>\n",
       "      <th>FuelLevel</th>\n",
       "      <th>FuelLtd</th>\n",
       "      <th>FuelRate</th>\n",
       "      <th>FuelTemperature</th>\n",
       "      <th>IntakeManifoldTemperature</th>\n",
       "      <th>LampStatus</th>\n",
       "      <th>ServiceDistance</th>\n",
       "      <th>Speed</th>\n",
       "      <th>SwitchedBatteryVoltage</th>\n",
       "      <th>Throttle</th>\n",
       "      <th>TurboBoostPressure</th>\n",
       "    </tr>\n",
       "    <tr>\n",
       "      <th>derate</th>\n",
       "      <th></th>\n",
       "      <th></th>\n",
       "      <th></th>\n",
       "      <th></th>\n",
       "      <th></th>\n",
       "      <th></th>\n",
       "      <th></th>\n",
       "      <th></th>\n",
       "      <th></th>\n",
       "      <th></th>\n",
       "      <th></th>\n",
       "      <th></th>\n",
       "      <th></th>\n",
       "      <th></th>\n",
       "      <th></th>\n",
       "      <th></th>\n",
       "      <th></th>\n",
       "      <th></th>\n",
       "      <th></th>\n",
       "      <th></th>\n",
       "      <th></th>\n",
       "    </tr>\n",
       "  </thead>\n",
       "  <tbody>\n",
       "    <tr>\n",
       "      <th>0</th>\n",
       "      <td>26.057845</td>\n",
       "      <td>16.956501</td>\n",
       "      <td>60.445410</td>\n",
       "      <td>360231.906047</td>\n",
       "      <td>166.327862</td>\n",
       "      <td>29.729669</td>\n",
       "      <td>32.389294</td>\n",
       "      <td>228.916173</td>\n",
       "      <td>935.070111</td>\n",
       "      <td>7180.316057</td>\n",
       "      <td>61.533911</td>\n",
       "      <td>7.067750e+08</td>\n",
       "      <td>88.436603</td>\n",
       "      <td>36.874109</td>\n",
       "      <td>106.166855</td>\n",
       "      <td>4430.073553</td>\n",
       "      <td>8135.295151</td>\n",
       "      <td>123.777128</td>\n",
       "      <td>2999.926609</td>\n",
       "      <td>70.180172</td>\n",
       "      <td>5.698188</td>\n",
       "    </tr>\n",
       "    <tr>\n",
       "      <th>1</th>\n",
       "      <td>28.679722</td>\n",
       "      <td>14.306224</td>\n",
       "      <td>62.610406</td>\n",
       "      <td>401685.100189</td>\n",
       "      <td>175.740502</td>\n",
       "      <td>33.154867</td>\n",
       "      <td>31.997520</td>\n",
       "      <td>195.620287</td>\n",
       "      <td>1013.409821</td>\n",
       "      <td>8175.188746</td>\n",
       "      <td>61.473604</td>\n",
       "      <td>5.712078e+04</td>\n",
       "      <td>5.000583</td>\n",
       "      <td>44.801374</td>\n",
       "      <td>99.944354</td>\n",
       "      <td>14836.182313</td>\n",
       "      <td>NaN</td>\n",
       "      <td>32.835272</td>\n",
       "      <td>2630.267983</td>\n",
       "      <td>77.228315</td>\n",
       "      <td>6.644209</td>\n",
       "    </tr>\n",
       "  </tbody>\n",
       "</table>\n",
       "</div>"
      ],
      "text/plain": [
       "        AcceleratorPedal  BarometricPressure  CruiseControlSetSpeed  \\\n",
       "derate                                                                \n",
       "0              26.057845           16.956501              60.445410   \n",
       "1              28.679722           14.306224              62.610406   \n",
       "\n",
       "          DistanceLtd  EngineCoolantTemperature  EngineLoad  \\\n",
       "derate                                                        \n",
       "0       360231.906047                166.327862   29.729669   \n",
       "1       401685.100189                175.740502   33.154867   \n",
       "\n",
       "        EngineOilPressure  EngineOilTemperature    EngineRpm  EngineTimeLtd  \\\n",
       "derate                                                                        \n",
       "0               32.389294            228.916173   935.070111    7180.316057   \n",
       "1               31.997520            195.620287  1013.409821    8175.188746   \n",
       "\n",
       "        FuelLevel       FuelLtd   FuelRate  FuelTemperature  \\\n",
       "derate                                                        \n",
       "0       61.533911  7.067750e+08  88.436603        36.874109   \n",
       "1       61.473604  5.712078e+04   5.000583        44.801374   \n",
       "\n",
       "        IntakeManifoldTemperature    LampStatus  ServiceDistance       Speed  \\\n",
       "derate                                                                         \n",
       "0                      106.166855   4430.073553      8135.295151  123.777128   \n",
       "1                       99.944354  14836.182313              NaN   32.835272   \n",
       "\n",
       "        SwitchedBatteryVoltage   Throttle  TurboBoostPressure  \n",
       "derate                                                         \n",
       "0                  2999.926609  70.180172            5.698188  \n",
       "1                  2630.267983  77.228315            6.644209  "
      ]
     },
     "execution_count": 99,
     "metadata": {},
     "output_type": "execute_result"
    }
   ],
   "source": [
    "comp"
   ]
  },
  {
   "cell_type": "markdown",
   "id": "b1e96782",
   "metadata": {},
   "source": [
    "# Findings to explore:\n",
    " - Derates occur at barometric pressure of about 2 less than nonderates\n",
    " - derates at higher cc speed (barely)\n",
    " - derates at much higher DistanceLtd\n",
    " - derates at higher coolant temp\n",
    " - derates at higher engine load (barely)"
   ]
  },
  {
   "cell_type": "markdown",
   "id": "aef4b400",
   "metadata": {},
   "source": [
    "# Further Cleaning:"
   ]
  },
  {
   "cell_type": "code",
   "execution_count": 100,
   "id": "7cccf1d7",
   "metadata": {},
   "outputs": [],
   "source": [
    "full_data = full_data.sort_values(['EquipmentID','EventTimeStamp']).reset_index().drop(columns=['index'])"
   ]
  },
  {
   "cell_type": "code",
   "execution_count": 101,
   "id": "c8ed4bf8",
   "metadata": {},
   "outputs": [],
   "source": [
    "full_data_filt = full_data[~((full_data['Longitude'].astype('str').str.contains(r'-86.44\\d+')) & (full_data['Latitude'].astype('str').str.contains(r'35.58\\d+')))]"
   ]
  },
  {
   "cell_type": "code",
   "execution_count": 102,
   "id": "cade7e2e",
   "metadata": {},
   "outputs": [],
   "source": [
    "full_data_filt = full_data_filt[~((full_data_filt['Longitude'].astype('str').str.contains(r'-86.4\\d+')) & (full_data_filt['Latitude'].astype('str').str.contains(r'36.0\\d+')))]"
   ]
  },
  {
   "cell_type": "code",
   "execution_count": 103,
   "id": "25874425",
   "metadata": {},
   "outputs": [],
   "source": [
    "full_data_filt = full_data_filt[~((full_data_filt['Longitude'].astype('str').str.contains(r'-83.17\\d+')) & (full_data_filt['Latitude'].astype('str').str.contains(r'36.19\\d+')))]"
   ]
  },
  {
   "cell_type": "code",
   "execution_count": 104,
   "id": "07d53510",
   "metadata": {},
   "outputs": [],
   "source": [
    "full_data_filt = full_data_filt[full_data_filt['EquipmentID'].astype(str).str.len() < 6]"
   ]
  },
  {
   "cell_type": "code",
   "execution_count": 105,
   "id": "eba2d40e",
   "metadata": {
    "scrolled": true
   },
   "outputs": [],
   "source": [
    "full_data_filt['EquipmentID'] = full_data_filt['EquipmentID'].astype(str)"
   ]
  },
  {
   "cell_type": "code",
   "execution_count": 106,
   "id": "44b07ddf",
   "metadata": {},
   "outputs": [],
   "source": [
    "full_data_filt = full_data_filt.sort_values(['EquipmentID','EventTimeStamp'])"
   ]
  },
  {
   "cell_type": "code",
   "execution_count": 33,
   "id": "94eee58b",
   "metadata": {},
   "outputs": [
    {
     "data": {
      "text/plain": [
       "(1051873, 46)"
      ]
     },
     "execution_count": 33,
     "metadata": {},
     "output_type": "execute_result"
    }
   ],
   "source": [
    "full_data_filt.shape"
   ]
  },
  {
   "cell_type": "markdown",
   "id": "9f5a50ab",
   "metadata": {},
   "source": [
    "# SPN Analysis"
   ]
  },
  {
   "cell_type": "code",
   "execution_count": 112,
   "id": "f4454c5a",
   "metadata": {},
   "outputs": [],
   "source": [
    "trucks_with_derate = full_data_filt[full_data_filt['full_derate'] == 1]['EquipmentID'].unique().tolist()"
   ]
  },
  {
   "cell_type": "code",
   "execution_count": 119,
   "id": "996ef30b",
   "metadata": {},
   "outputs": [],
   "source": [
    "derate_truck_df = full_data_filt[full_data_filt['EquipmentID'].isin(trucks_with_derate)]"
   ]
  },
  {
   "cell_type": "code",
   "execution_count": 117,
   "id": "0a0f97a6",
   "metadata": {},
   "outputs": [],
   "source": [
    "no_derate_truck_df = full_data_filt[~full_data_filt['EquipmentID'].isin(trucks_with_derate)]"
   ]
  },
  {
   "cell_type": "code",
   "execution_count": 138,
   "id": "ea0e0fec",
   "metadata": {},
   "outputs": [],
   "source": [
    "spn_derate = pd.DataFrame(derate_truck_df['spn'].value_counts(normalize=True)).reset_index().rename(columns = {'spn':'derate'})"
   ]
  },
  {
   "cell_type": "code",
   "execution_count": 145,
   "id": "033855de",
   "metadata": {},
   "outputs": [],
   "source": [
    "spn_no_derate = no_derate_truck_df['spn'].value_counts(normalize=True).reset_index().rename(columns = {'spn':'no_derate'})"
   ]
  },
  {
   "cell_type": "code",
   "execution_count": 146,
   "id": "27888cea",
   "metadata": {},
   "outputs": [
    {
     "data": {
      "text/plain": [
       "(344029, 46)"
      ]
     },
     "execution_count": 146,
     "metadata": {},
     "output_type": "execute_result"
    }
   ],
   "source": [
    "full_data_filt[full_data_filt['spn'] == 111].shape"
   ]
  },
  {
   "cell_type": "code",
   "execution_count": 147,
   "id": "14b4bdc9",
   "metadata": {},
   "outputs": [],
   "source": [
    "spns = pd.merge(spn_derate, spn_no_derate, on = ['index'])"
   ]
  },
  {
   "cell_type": "code",
   "execution_count": 162,
   "id": "fcbc5b63",
   "metadata": {},
   "outputs": [],
   "source": [
    "within_day_top = [1569, 111, 96, 1761, 829, 929, 3362, 3364, 3216, 3031]"
   ]
  },
  {
   "cell_type": "code",
   "execution_count": 175,
   "id": "44d8bf1c",
   "metadata": {},
   "outputs": [],
   "source": [
    "first_top = [111, 96, 829, 929, 1068, 639, 1569, 97, 792, 596]"
   ]
  },
  {
   "cell_type": "code",
   "execution_count": 177,
   "id": "51042b84",
   "metadata": {},
   "outputs": [
    {
     "data": {
      "text/plain": [
       "Text(0.5, 0, 'SPN')"
      ]
     },
     "execution_count": 177,
     "metadata": {},
     "output_type": "execute_result"
    },
    {
     "data": {
      "image/png": "[encoded data removed]",
      "text/plain": [
       "<Figure size 720x432 with 1 Axes>"
      ]
     },
     "metadata": {
      "needs_background": "light"
     },
     "output_type": "display_data"
    }
   ],
   "source": [
    "spns[spns['index'].isin(within_day_top)].plot(x = 'index', y = ['derate', 'no_derate'], kind = 'bar')\n",
    "plt.title('Proportion of Error Messages by SPN')\n",
    "plt.xlabel('SPN')"
   ]
  },
  {
   "cell_type": "code",
   "execution_count": 176,
   "id": "98d93ea7",
   "metadata": {},
   "outputs": [
    {
     "data": {
      "text/plain": [
       "Text(0.5, 0, 'SPN')"
      ]
     },
     "execution_count": 176,
     "metadata": {},
     "output_type": "execute_result"
    },
    {
     "data": {
      "image/png": "[encoded data removed]",
      "text/plain": [
       "<Figure size 720x432 with 1 Axes>"
      ]
     },
     "metadata": {
      "needs_background": "light"
     },
     "output_type": "display_data"
    }
   ],
   "source": [
    "spns[spns['index'].isin(first_top)].plot(x = 'index', y = ['derate', 'no_derate'], kind = 'bar')\n",
    "plt.title('Proportion of Error Messages by SPN')\n",
    "plt.xlabel('SPN')"
   ]
  },
  {
   "cell_type": "code",
   "execution_count": 154,
   "id": "1a02214c",
   "metadata": {
    "scrolled": true
   },
   "outputs": [],
   "source": [
    "noteworthy_spns = spns[spns['index'].isin([1569, 111,96,1761,829,929,3362,3364,3216,3031])]"
   ]
  },
  {
   "cell_type": "markdown",
   "id": "c40c8cfe",
   "metadata": {},
   "source": [
    "# Time Series Analysis"
   ]
  },
  {
   "cell_type": "code",
   "execution_count": 34,
   "id": "e4f5c260",
   "metadata": {},
   "outputs": [],
   "source": [
    "full_derates = np.array(full_data_filt[full_data_filt['spn'] == 5246].index)"
   ]
  },
  {
   "cell_type": "markdown",
   "id": "730797cd",
   "metadata": {},
   "source": [
    "1094 full derates"
   ]
  },
  {
   "cell_type": "code",
   "execution_count": 36,
   "id": "0631428a",
   "metadata": {},
   "outputs": [],
   "source": [
    "full_before1 = full_derates - 1"
   ]
  },
  {
   "cell_type": "code",
   "execution_count": 37,
   "id": "5761687c",
   "metadata": {},
   "outputs": [],
   "source": [
    "full_before1 = full_before1.tolist()"
   ]
  },
  {
   "cell_type": "code",
   "execution_count": 38,
   "id": "a161de12",
   "metadata": {},
   "outputs": [],
   "source": [
    "full_derates_list = full_derates.astype(int).tolist()"
   ]
  },
  {
   "cell_type": "code",
   "execution_count": 39,
   "id": "120efda6",
   "metadata": {},
   "outputs": [],
   "source": [
    "time_series = full_data_filt[full_data_filt.index.isin(full_before1) | full_data_filt.index.isin(full_derates_list)]"
   ]
  },
  {
   "cell_type": "code",
   "execution_count": 40,
   "id": "bd187f4b",
   "metadata": {},
   "outputs": [
    {
     "name": "stderr",
     "output_type": "stream",
     "text": [
      "<ipython-input-40-8672fe9283b5>:1: SettingWithCopyWarning: \n",
      "A value is trying to be set on a copy of a slice from a DataFrame.\n",
      "Try using .loc[row_indexer,col_indexer] = value instead\n",
      "\n",
      "See the caveats in the documentation: https://pandas.pydata.org/pandas-docs/stable/user_guide/indexing.html#returning-a-view-versus-a-copy\n",
      "  time_series['time_diff'] = time_series['EventTimeStamp'].diff(periods=1)\n"
     ]
    }
   ],
   "source": [
    "time_series['time_diff'] = time_series['EventTimeStamp'].diff(periods=1)"
   ]
  },
  {
   "cell_type": "code",
   "execution_count": 41,
   "id": "39011275",
   "metadata": {},
   "outputs": [
    {
     "name": "stderr",
     "output_type": "stream",
     "text": [
      "<ipython-input-41-090b6a6120c5>:1: SettingWithCopyWarning: \n",
      "A value is trying to be set on a copy of a slice from a DataFrame.\n",
      "Try using .loc[row_indexer,col_indexer] = value instead\n",
      "\n",
      "See the caveats in the documentation: https://pandas.pydata.org/pandas-docs/stable/user_guide/indexing.html#returning-a-view-versus-a-copy\n",
      "  time_series['d_diff'] = time_series['full_derate'].diff(periods=1)\n"
     ]
    }
   ],
   "source": [
    "time_series['d_diff'] = time_series['full_derate'].diff(periods=1)"
   ]
  },
  {
   "cell_type": "code",
   "execution_count": 43,
   "id": "a17f8209",
   "metadata": {},
   "outputs": [
    {
     "data": {
      "text/plain": [
       "Timedelta('0 days 09:31:20.273743016')"
      ]
     },
     "execution_count": 43,
     "metadata": {},
     "output_type": "execute_result"
    }
   ],
   "source": [
    "time_series[(time_series['d_diff'] == 1) & \n",
    "            (time_series['time_diff'].dt.total_seconds() > 0)]['time_diff'].mean()"
   ]
  },
  {
   "cell_type": "code",
   "execution_count": 44,
   "id": "9b8be90f",
   "metadata": {},
   "outputs": [
    {
     "data": {
      "text/plain": [
       "5246    273\n",
       "Name: spn, dtype: int64"
      ]
     },
     "execution_count": 44,
     "metadata": {},
     "output_type": "execute_result"
    }
   ],
   "source": [
    "time_series[time_series['d_diff'] == 0].spn.value_counts()"
   ]
  },
  {
   "cell_type": "markdown",
   "id": "a4a4c1d8",
   "metadata": {},
   "source": [
    "- Anything with d_diff = 0 is a derate that occured after another full derate\n",
    "- Anything with d_diff = 1 is a derate that occured after a non_full derate\n",
    "- anything with d_diff = -1 is the message before a derate that is not a full derate"
   ]
  },
  {
   "cell_type": "code",
   "execution_count": 45,
   "id": "f5467c02",
   "metadata": {},
   "outputs": [],
   "source": [
    "spns_before_derate = pd.DataFrame(time_series[time_series['d_diff'] == -1].spn.value_counts()).reset_index()"
   ]
  },
  {
   "cell_type": "code",
   "execution_count": 46,
   "id": "a8b34241",
   "metadata": {},
   "outputs": [],
   "source": [
    "spns_before_derate = spns_before_derate.append({'index':5246, 'spn':272}, ignore_index=True).sort_values('spn', ascending = False)"
   ]
  },
  {
   "cell_type": "code",
   "execution_count": 47,
   "id": "3658d38f",
   "metadata": {},
   "outputs": [
    {
     "data": {
      "text/html": [
       "<div>\n",
       "<style scoped>\n",
       "    .dataframe tbody tr th:only-of-type {\n",
       "        vertical-align: middle;\n",
       "    }\n",
       "\n",
       "    .dataframe tbody tr th {\n",
       "        vertical-align: top;\n",
       "    }\n",
       "\n",
       "    .dataframe thead th {\n",
       "        text-align: right;\n",
       "    }\n",
       "</style>\n",
       "<table border=\"1\" class=\"dataframe\">\n",
       "  <thead>\n",
       "    <tr style=\"text-align: right;\">\n",
       "      <th></th>\n",
       "      <th>index</th>\n",
       "      <th>spn</th>\n",
       "    </tr>\n",
       "  </thead>\n",
       "  <tbody>\n",
       "    <tr>\n",
       "      <th>71</th>\n",
       "      <td>5246</td>\n",
       "      <td>272</td>\n",
       "    </tr>\n",
       "    <tr>\n",
       "      <th>0</th>\n",
       "      <td>1569</td>\n",
       "      <td>190</td>\n",
       "    </tr>\n",
       "    <tr>\n",
       "      <th>1</th>\n",
       "      <td>4094</td>\n",
       "      <td>99</td>\n",
       "    </tr>\n",
       "    <tr>\n",
       "      <th>2</th>\n",
       "      <td>5394</td>\n",
       "      <td>39</td>\n",
       "    </tr>\n",
       "    <tr>\n",
       "      <th>3</th>\n",
       "      <td>1761</td>\n",
       "      <td>31</td>\n",
       "    </tr>\n",
       "    <tr>\n",
       "      <th>4</th>\n",
       "      <td>111</td>\n",
       "      <td>28</td>\n",
       "    </tr>\n",
       "    <tr>\n",
       "      <th>5</th>\n",
       "      <td>3362</td>\n",
       "      <td>25</td>\n",
       "    </tr>\n",
       "    <tr>\n",
       "      <th>6</th>\n",
       "      <td>3216</td>\n",
       "      <td>23</td>\n",
       "    </tr>\n",
       "    <tr>\n",
       "      <th>7</th>\n",
       "      <td>3031</td>\n",
       "      <td>14</td>\n",
       "    </tr>\n",
       "    <tr>\n",
       "      <th>8</th>\n",
       "      <td>3226</td>\n",
       "      <td>14</td>\n",
       "    </tr>\n",
       "    <tr>\n",
       "      <th>9</th>\n",
       "      <td>6802</td>\n",
       "      <td>12</td>\n",
       "    </tr>\n",
       "    <tr>\n",
       "      <th>10</th>\n",
       "      <td>74</td>\n",
       "      <td>10</td>\n",
       "    </tr>\n",
       "    <tr>\n",
       "      <th>12</th>\n",
       "      <td>3364</td>\n",
       "      <td>9</td>\n",
       "    </tr>\n",
       "    <tr>\n",
       "      <th>11</th>\n",
       "      <td>1231</td>\n",
       "      <td>9</td>\n",
       "    </tr>\n",
       "    <tr>\n",
       "      <th>13</th>\n",
       "      <td>641</td>\n",
       "      <td>8</td>\n",
       "    </tr>\n",
       "    <tr>\n",
       "      <th>14</th>\n",
       "      <td>3361</td>\n",
       "      <td>8</td>\n",
       "    </tr>\n",
       "    <tr>\n",
       "      <th>15</th>\n",
       "      <td>4334</td>\n",
       "      <td>7</td>\n",
       "    </tr>\n",
       "    <tr>\n",
       "      <th>16</th>\n",
       "      <td>4096</td>\n",
       "      <td>7</td>\n",
       "    </tr>\n",
       "    <tr>\n",
       "      <th>17</th>\n",
       "      <td>1787</td>\n",
       "      <td>6</td>\n",
       "    </tr>\n",
       "    <tr>\n",
       "      <th>18</th>\n",
       "      <td>4340</td>\n",
       "      <td>6</td>\n",
       "    </tr>\n",
       "  </tbody>\n",
       "</table>\n",
       "</div>"
      ],
      "text/plain": [
       "    index  spn\n",
       "71   5246  272\n",
       "0    1569  190\n",
       "1    4094   99\n",
       "2    5394   39\n",
       "3    1761   31\n",
       "4     111   28\n",
       "5    3362   25\n",
       "6    3216   23\n",
       "7    3031   14\n",
       "8    3226   14\n",
       "9    6802   12\n",
       "10     74   10\n",
       "12   3364    9\n",
       "11   1231    9\n",
       "13    641    8\n",
       "14   3361    8\n",
       "15   4334    7\n",
       "16   4096    7\n",
       "17   1787    6\n",
       "18   4340    6"
      ]
     },
     "execution_count": 47,
     "metadata": {},
     "output_type": "execute_result"
    }
   ],
   "source": [
    "spns_before_derate.head(20)"
   ]
  },
  {
   "cell_type": "code",
   "execution_count": 48,
   "id": "e9746156",
   "metadata": {},
   "outputs": [
    {
     "data": {
      "image/png": "[encoded data removed]",
      "text/plain": [
       "<Figure size 720x432 with 1 Axes>"
      ]
     },
     "metadata": {
      "needs_background": "light"
     },
     "output_type": "display_data"
    }
   ],
   "source": [
    "plt.rcParams[\"figure.figsize\"] = (10,6)\n",
    "\n",
    "plt.bar(x = spns_before_derate.head(20)['index'].astype(str), height=spns_before_derate.head(20)['spn']);"
   ]
  },
  {
   "cell_type": "code",
   "execution_count": 49,
   "id": "7acda7f9",
   "metadata": {
    "scrolled": true
   },
   "outputs": [],
   "source": [
    "events_before_derate = pd.DataFrame(time_series[time_series['d_diff'] == -1]['eventDescription']\\\n",
    "                                    .value_counts())\\\n",
    "                                    .sort_values('eventDescription',ascending=False)\\\n",
    "                                    .reset_index()"
   ]
  },
  {
   "cell_type": "code",
   "execution_count": 51,
   "id": "a0b88f5d",
   "metadata": {},
   "outputs": [
    {
     "data": {
      "image/png": "[encoded data removed]",
      "text/plain": [
       "<Figure size 720x432 with 1 Axes>"
      ]
     },
     "metadata": {
      "needs_background": "light"
     },
     "output_type": "display_data"
    }
   ],
   "source": [
    "plt.rcParams[\"figure.figsize\"] = (10,6)\n",
    "\n",
    "plt.bar(x = events_before_derate.head(20)['index'].astype(str), height=events_before_derate.head(20)['eventDescription'])\n",
    "\n",
    "plt.xticks(rotation = 90);"
   ]
  },
  {
   "cell_type": "markdown",
   "id": "2bbc17b8",
   "metadata": {},
   "source": [
    "Look for average time between partial derate and full derate:"
   ]
  },
  {
   "cell_type": "code",
   "execution_count": 53,
   "id": "256a2707",
   "metadata": {},
   "outputs": [],
   "source": [
    "partial_d_index = np.array(time_series[time_series['spn'] == 1569].index)"
   ]
  },
  {
   "cell_type": "code",
   "execution_count": 54,
   "id": "1d7fd6bf",
   "metadata": {},
   "outputs": [
    {
     "name": "stderr",
     "output_type": "stream",
     "text": [
      "<ipython-input-54-60f89605e62b>:1: UserWarning: Boolean Series key will be reindexed to match DataFrame index.\n",
      "  time_series[time_series.index.isin(partial_d_index.tolist() + (partial_d_index + 1).tolist())][time_series['spn'] == 5246].time_diff.mean()\n"
     ]
    },
    {
     "data": {
      "text/plain": [
       "Timedelta('0 days 08:27:15.152631578')"
      ]
     },
     "execution_count": 54,
     "metadata": {},
     "output_type": "execute_result"
    }
   ],
   "source": [
    "time_series[time_series.index.isin(partial_d_index.tolist() + (partial_d_index + 1).tolist())][time_series['spn'] == 5246].time_diff.mean()"
   ]
  },
  {
   "cell_type": "markdown",
   "id": "2973a53a",
   "metadata": {},
   "source": [
    "There are, on average, 8 hours until a full derate from a partial derate"
   ]
  },
  {
   "cell_type": "markdown",
   "id": "9c841d69",
   "metadata": {},
   "source": [
    "# Time Until Full Derate"
   ]
  },
  {
   "cell_type": "code",
   "execution_count": 55,
   "id": "95360cdc",
   "metadata": {},
   "outputs": [],
   "source": [
    "no_consec = full_data_filt[~full_data_filt.index.isin(time_series[time_series['d_diff'] == 0].index.to_list())]"
   ]
  },
  {
   "cell_type": "code",
   "execution_count": 56,
   "id": "b1045ad8",
   "metadata": {},
   "outputs": [],
   "source": [
    "no_consec = no_consec[(no_consec['EventTimeStamp'].dt.year >=2015) & (no_consec['EventTimeStamp'].dt.year <=2022)]"
   ]
  },
  {
   "cell_type": "code",
   "execution_count": 57,
   "id": "bdbfe21d",
   "metadata": {},
   "outputs": [],
   "source": [
    "no_consec = no_consec.reset_index()"
   ]
  },
  {
   "cell_type": "code",
   "execution_count": 58,
   "id": "256becf5",
   "metadata": {},
   "outputs": [],
   "source": [
    "derates = no_consec[no_consec['full_derate'] == 1]"
   ]
  },
  {
   "cell_type": "code",
   "execution_count": 59,
   "id": "b25f673c",
   "metadata": {},
   "outputs": [
    {
     "name": "stderr",
     "output_type": "stream",
     "text": [
      "<ipython-input-59-d0967cf40155>:1: SettingWithCopyWarning: \n",
      "A value is trying to be set on a copy of a slice from a DataFrame.\n",
      "Try using .loc[row_indexer,col_indexer] = value instead\n",
      "\n",
      "See the caveats in the documentation: https://pandas.pydata.org/pandas-docs/stable/user_guide/indexing.html#returning-a-view-versus-a-copy\n",
      "  derates['diff_timestamp'] = derates['EventTimeStamp'].diff(1)\n"
     ]
    }
   ],
   "source": [
    "derates['diff_timestamp'] = derates['EventTimeStamp'].diff(1)"
   ]
  },
  {
   "cell_type": "code",
   "execution_count": 60,
   "id": "15b00fb3",
   "metadata": {
    "scrolled": true
   },
   "outputs": [
    {
     "data": {
      "text/plain": [
       "(655, 48)"
      ]
     },
     "execution_count": 60,
     "metadata": {},
     "output_type": "execute_result"
    }
   ],
   "source": [
    "derates.shape"
   ]
  },
  {
   "cell_type": "code",
   "execution_count": 61,
   "id": "a3c1ae37",
   "metadata": {},
   "outputs": [
    {
     "data": {
      "text/plain": [
       "Timedelta('1 days 23:20:08.214067278')"
      ]
     },
     "execution_count": 61,
     "metadata": {},
     "output_type": "execute_result"
    }
   ],
   "source": [
    "derates['diff_timestamp'].mean()"
   ]
  },
  {
   "cell_type": "code",
   "execution_count": 62,
   "id": "717b97f6",
   "metadata": {},
   "outputs": [],
   "source": [
    "consecutives = derates[(derates['diff_timestamp']/pd.Timedelta('1 day') < 1) \n",
    "                       &( derates['diff_timestamp']/pd.Timedelta('1 day') > 0) ]['DistanceLtd'].index.to_list()"
   ]
  },
  {
   "cell_type": "code",
   "execution_count": 63,
   "id": "b123db1b",
   "metadata": {},
   "outputs": [
    {
     "data": {
      "text/plain": [
       "(1051207, 47)"
      ]
     },
     "execution_count": 63,
     "metadata": {},
     "output_type": "execute_result"
    }
   ],
   "source": [
    "no_consec.shape"
   ]
  },
  {
   "cell_type": "code",
   "execution_count": 64,
   "id": "eb07c697",
   "metadata": {},
   "outputs": [],
   "source": [
    "no_consec = no_consec[~no_consec.index.isin(consecutives)]"
   ]
  },
  {
   "cell_type": "code",
   "execution_count": 65,
   "id": "fda65cbc",
   "metadata": {},
   "outputs": [],
   "source": [
    "no_consec = no_consec.reset_index(drop = True)"
   ]
  },
  {
   "cell_type": "code",
   "execution_count": 66,
   "id": "99546291",
   "metadata": {},
   "outputs": [],
   "source": [
    "no_consec['derate_cumulative'] = no_consec.full_derate.cumsum()"
   ]
  },
  {
   "cell_type": "code",
   "execution_count": 67,
   "id": "b4cbff78",
   "metadata": {},
   "outputs": [],
   "source": [
    "no_consec['derate_cumu_diff'] = no_consec.derate_cumulative.diff(1)"
   ]
  },
  {
   "cell_type": "code",
   "execution_count": 68,
   "id": "ac9b9aca",
   "metadata": {
    "scrolled": true
   },
   "outputs": [],
   "source": [
    "no_consec['next_timestamp'] = no_consec['EventTimeStamp'].shift()"
   ]
  },
  {
   "cell_type": "code",
   "execution_count": 69,
   "id": "2963fdfe",
   "metadata": {
    "scrolled": false
   },
   "outputs": [],
   "source": [
    "no_consec['time_diff_next'] = no_consec['EventTimeStamp'] - no_consec['next_timestamp'] "
   ]
  },
  {
   "cell_type": "code",
   "execution_count": 70,
   "id": "1c35c66b",
   "metadata": {},
   "outputs": [],
   "source": [
    "no_consec['time_diff_next_h'] = no_consec['time_diff_next']/pd.Timedelta('1 hour')"
   ]
  },
  {
   "cell_type": "code",
   "execution_count": 71,
   "id": "ba64fcf9",
   "metadata": {},
   "outputs": [],
   "source": [
    "highest_cumu = pd.DataFrame(pd.DataFrame(no_consec.groupby(['EquipmentID', 'derate_cumulative'])['DistanceLtd'].sum())\\\n",
    ".reset_index()\\\n",
    ".groupby('EquipmentID')['derate_cumulative'].max()).reset_index()"
   ]
  },
  {
   "cell_type": "code",
   "execution_count": 73,
   "id": "6e2517ed",
   "metadata": {},
   "outputs": [],
   "source": [
    "highest_cumu = highest_cumu[highest_cumu['EquipmentID'].isin(trucks_with_derate)]"
   ]
  },
  {
   "cell_type": "markdown",
   "id": "322a6883",
   "metadata": {},
   "source": [
    "methodology:\n",
    "- filter out trucks with out derate highest cumu.\n",
    "- np.where with condition that equipment id isin highestcumu and derate is zero"
   ]
  },
  {
   "cell_type": "code",
   "execution_count": 74,
   "id": "08df8386",
   "metadata": {},
   "outputs": [
    {
     "ename": "KeyboardInterrupt",
     "evalue": "",
     "output_type": "error",
     "traceback": [
      "\u001b[1;31m---------------------------------------------------------------------------\u001b[0m",
      "\u001b[1;31mKeyboardInterrupt\u001b[0m                         Traceback (most recent call last)",
      "\u001b[1;32m<ipython-input-74-db91837203a3>\u001b[0m in \u001b[0;36m<module>\u001b[1;34m\u001b[0m\n\u001b[0;32m      2\u001b[0m \u001b[1;32mfor\u001b[0m \u001b[0mi\u001b[0m \u001b[1;32min\u001b[0m \u001b[0mno_consec\u001b[0m\u001b[1;33m.\u001b[0m\u001b[0mindex\u001b[0m\u001b[1;33m:\u001b[0m\u001b[1;33m\u001b[0m\u001b[1;33m\u001b[0m\u001b[0m\n\u001b[0;32m      3\u001b[0m     \u001b[1;32mtry\u001b[0m\u001b[1;33m:\u001b[0m\u001b[1;33m\u001b[0m\u001b[1;33m\u001b[0m\u001b[0m\n\u001b[1;32m----> 4\u001b[1;33m         \u001b[1;32mif\u001b[0m \u001b[1;33m(\u001b[0m\u001b[1;33m(\u001b[0m\u001b[0mno_consec\u001b[0m\u001b[1;33m.\u001b[0m\u001b[0miloc\u001b[0m\u001b[1;33m[\u001b[0m\u001b[0mi\u001b[0m\u001b[1;33m]\u001b[0m\u001b[1;33m[\u001b[0m\u001b[1;34m'EquipmentID'\u001b[0m\u001b[1;33m]\u001b[0m \u001b[1;33m!=\u001b[0m \u001b[0mno_consec\u001b[0m\u001b[1;33m.\u001b[0m\u001b[0miloc\u001b[0m\u001b[1;33m[\u001b[0m\u001b[0mi\u001b[0m\u001b[1;33m-\u001b[0m\u001b[1;36m1\u001b[0m\u001b[1;33m]\u001b[0m\u001b[1;33m[\u001b[0m\u001b[1;34m'EquipmentID'\u001b[0m\u001b[1;33m]\u001b[0m\u001b[1;33m)\u001b[0m \u001b[1;33m&\u001b[0m \u001b[1;33m(\u001b[0m\u001b[0mno_consec\u001b[0m\u001b[1;33m.\u001b[0m\u001b[0miloc\u001b[0m\u001b[1;33m[\u001b[0m\u001b[0mi\u001b[0m\u001b[1;33m]\u001b[0m\u001b[1;33m[\u001b[0m\u001b[1;34m'derate_cumulative'\u001b[0m\u001b[1;33m]\u001b[0m \u001b[1;33m==\u001b[0m \u001b[0mno_consec\u001b[0m\u001b[1;33m.\u001b[0m\u001b[0miloc\u001b[0m\u001b[1;33m[\u001b[0m\u001b[0mi\u001b[0m\u001b[1;33m-\u001b[0m\u001b[1;36m1\u001b[0m\u001b[1;33m]\u001b[0m\u001b[1;33m[\u001b[0m\u001b[1;34m'derate_cumulative'\u001b[0m\u001b[1;33m]\u001b[0m\u001b[1;33m)\u001b[0m\u001b[1;33m)\u001b[0m\u001b[1;33m:\u001b[0m\u001b[1;33m\u001b[0m\u001b[1;33m\u001b[0m\u001b[0m\n\u001b[0m\u001b[0;32m      5\u001b[0m             \u001b[0mno_consec\u001b[0m\u001b[1;33m.\u001b[0m\u001b[0mloc\u001b[0m\u001b[1;33m[\u001b[0m\u001b[0mi\u001b[0m\u001b[1;33m,\u001b[0m \u001b[1;34m'time_diff_next_h'\u001b[0m\u001b[1;33m]\u001b[0m \u001b[1;33m=\u001b[0m \u001b[1;36m0\u001b[0m\u001b[1;33m\u001b[0m\u001b[1;33m\u001b[0m\u001b[0m\n\u001b[0;32m      6\u001b[0m         \u001b[1;32melif\u001b[0m \u001b[1;33m(\u001b[0m\u001b[0mno_consec\u001b[0m\u001b[1;33m.\u001b[0m\u001b[0miloc\u001b[0m\u001b[1;33m[\u001b[0m\u001b[0mi\u001b[0m\u001b[1;33m]\u001b[0m\u001b[1;33m[\u001b[0m\u001b[1;34m'EquipmentID'\u001b[0m\u001b[1;33m]\u001b[0m \u001b[1;33m==\u001b[0m \u001b[0mno_consec\u001b[0m\u001b[1;33m.\u001b[0m\u001b[0miloc\u001b[0m\u001b[1;33m[\u001b[0m\u001b[0mi\u001b[0m\u001b[1;33m-\u001b[0m\u001b[1;36m1\u001b[0m\u001b[1;33m]\u001b[0m\u001b[1;33m[\u001b[0m\u001b[1;34m'EquipmentID'\u001b[0m\u001b[1;33m]\u001b[0m\u001b[1;33m)\u001b[0m \u001b[1;33m&\u001b[0m \u001b[1;33m(\u001b[0m\u001b[0mno_consec\u001b[0m\u001b[1;33m.\u001b[0m\u001b[0miloc\u001b[0m\u001b[1;33m[\u001b[0m\u001b[0mi\u001b[0m\u001b[1;33m]\u001b[0m\u001b[1;33m[\u001b[0m\u001b[1;34m'derate_cumu_diff'\u001b[0m\u001b[1;33m]\u001b[0m\u001b[1;33m==\u001b[0m\u001b[1;36m1\u001b[0m\u001b[1;33m)\u001b[0m\u001b[1;33m:\u001b[0m\u001b[1;33m\u001b[0m\u001b[1;33m\u001b[0m\u001b[0m\n",
      "\u001b[1;32m~\\anaconda3\\lib\\site-packages\\pandas\\core\\indexing.py\u001b[0m in \u001b[0;36m__getitem__\u001b[1;34m(self, key)\u001b[0m\n\u001b[0;32m    893\u001b[0m \u001b[1;33m\u001b[0m\u001b[0m\n\u001b[0;32m    894\u001b[0m             \u001b[0mmaybe_callable\u001b[0m \u001b[1;33m=\u001b[0m \u001b[0mcom\u001b[0m\u001b[1;33m.\u001b[0m\u001b[0mapply_if_callable\u001b[0m\u001b[1;33m(\u001b[0m\u001b[0mkey\u001b[0m\u001b[1;33m,\u001b[0m \u001b[0mself\u001b[0m\u001b[1;33m.\u001b[0m\u001b[0mobj\u001b[0m\u001b[1;33m)\u001b[0m\u001b[1;33m\u001b[0m\u001b[1;33m\u001b[0m\u001b[0m\n\u001b[1;32m--> 895\u001b[1;33m             \u001b[1;32mreturn\u001b[0m \u001b[0mself\u001b[0m\u001b[1;33m.\u001b[0m\u001b[0m_getitem_axis\u001b[0m\u001b[1;33m(\u001b[0m\u001b[0mmaybe_callable\u001b[0m\u001b[1;33m,\u001b[0m \u001b[0maxis\u001b[0m\u001b[1;33m=\u001b[0m\u001b[0maxis\u001b[0m\u001b[1;33m)\u001b[0m\u001b[1;33m\u001b[0m\u001b[1;33m\u001b[0m\u001b[0m\n\u001b[0m\u001b[0;32m    896\u001b[0m \u001b[1;33m\u001b[0m\u001b[0m\n\u001b[0;32m    897\u001b[0m     \u001b[1;32mdef\u001b[0m \u001b[0m_is_scalar_access\u001b[0m\u001b[1;33m(\u001b[0m\u001b[0mself\u001b[0m\u001b[1;33m,\u001b[0m \u001b[0mkey\u001b[0m\u001b[1;33m:\u001b[0m \u001b[0mTuple\u001b[0m\u001b[1;33m)\u001b[0m\u001b[1;33m:\u001b[0m\u001b[1;33m\u001b[0m\u001b[1;33m\u001b[0m\u001b[0m\n",
      "\u001b[1;32m~\\anaconda3\\lib\\site-packages\\pandas\\core\\indexing.py\u001b[0m in \u001b[0;36m_getitem_axis\u001b[1;34m(self, key, axis)\u001b[0m\n\u001b[0;32m   1501\u001b[0m             \u001b[0mself\u001b[0m\u001b[1;33m.\u001b[0m\u001b[0m_validate_integer\u001b[0m\u001b[1;33m(\u001b[0m\u001b[0mkey\u001b[0m\u001b[1;33m,\u001b[0m \u001b[0maxis\u001b[0m\u001b[1;33m)\u001b[0m\u001b[1;33m\u001b[0m\u001b[1;33m\u001b[0m\u001b[0m\n\u001b[0;32m   1502\u001b[0m \u001b[1;33m\u001b[0m\u001b[0m\n\u001b[1;32m-> 1503\u001b[1;33m             \u001b[1;32mreturn\u001b[0m \u001b[0mself\u001b[0m\u001b[1;33m.\u001b[0m\u001b[0mobj\u001b[0m\u001b[1;33m.\u001b[0m\u001b[0m_ixs\u001b[0m\u001b[1;33m(\u001b[0m\u001b[0mkey\u001b[0m\u001b[1;33m,\u001b[0m \u001b[0maxis\u001b[0m\u001b[1;33m=\u001b[0m\u001b[0maxis\u001b[0m\u001b[1;33m)\u001b[0m\u001b[1;33m\u001b[0m\u001b[1;33m\u001b[0m\u001b[0m\n\u001b[0m\u001b[0;32m   1504\u001b[0m \u001b[1;33m\u001b[0m\u001b[0m\n\u001b[0;32m   1505\u001b[0m     \u001b[1;32mdef\u001b[0m \u001b[0m_get_slice_axis\u001b[0m\u001b[1;33m(\u001b[0m\u001b[0mself\u001b[0m\u001b[1;33m,\u001b[0m \u001b[0mslice_obj\u001b[0m\u001b[1;33m:\u001b[0m \u001b[0mslice\u001b[0m\u001b[1;33m,\u001b[0m \u001b[0maxis\u001b[0m\u001b[1;33m:\u001b[0m \u001b[0mint\u001b[0m\u001b[1;33m)\u001b[0m\u001b[1;33m:\u001b[0m\u001b[1;33m\u001b[0m\u001b[1;33m\u001b[0m\u001b[0m\n",
      "\u001b[1;32m~\\anaconda3\\lib\\site-packages\\pandas\\core\\frame.py\u001b[0m in \u001b[0;36m_ixs\u001b[1;34m(self, i, axis)\u001b[0m\n\u001b[0;32m   2949\u001b[0m             \u001b[1;31m# if we are a copy, mark as such\u001b[0m\u001b[1;33m\u001b[0m\u001b[1;33m\u001b[0m\u001b[1;33m\u001b[0m\u001b[0m\n\u001b[0;32m   2950\u001b[0m             \u001b[0mcopy\u001b[0m \u001b[1;33m=\u001b[0m \u001b[0misinstance\u001b[0m\u001b[1;33m(\u001b[0m\u001b[0mnew_values\u001b[0m\u001b[1;33m,\u001b[0m \u001b[0mnp\u001b[0m\u001b[1;33m.\u001b[0m\u001b[0mndarray\u001b[0m\u001b[1;33m)\u001b[0m \u001b[1;32mand\u001b[0m \u001b[0mnew_values\u001b[0m\u001b[1;33m.\u001b[0m\u001b[0mbase\u001b[0m \u001b[1;32mis\u001b[0m \u001b[1;32mNone\u001b[0m\u001b[1;33m\u001b[0m\u001b[1;33m\u001b[0m\u001b[0m\n\u001b[1;32m-> 2951\u001b[1;33m             result = self._constructor_sliced(\n\u001b[0m\u001b[0;32m   2952\u001b[0m                 \u001b[0mnew_values\u001b[0m\u001b[1;33m,\u001b[0m\u001b[1;33m\u001b[0m\u001b[1;33m\u001b[0m\u001b[0m\n\u001b[0;32m   2953\u001b[0m                 \u001b[0mindex\u001b[0m\u001b[1;33m=\u001b[0m\u001b[0mself\u001b[0m\u001b[1;33m.\u001b[0m\u001b[0mcolumns\u001b[0m\u001b[1;33m,\u001b[0m\u001b[1;33m\u001b[0m\u001b[1;33m\u001b[0m\u001b[0m\n",
      "\u001b[1;32m~\\anaconda3\\lib\\site-packages\\pandas\\core\\series.py\u001b[0m in \u001b[0;36m__init__\u001b[1;34m(self, data, index, dtype, name, copy, fastpath)\u001b[0m\n\u001b[0;32m    362\u001b[0m                     \u001b[0mdata\u001b[0m \u001b[1;33m=\u001b[0m \u001b[0mdata\u001b[0m\u001b[1;33m.\u001b[0m\u001b[0mcopy\u001b[0m\u001b[1;33m(\u001b[0m\u001b[1;33m)\u001b[0m\u001b[1;33m\u001b[0m\u001b[1;33m\u001b[0m\u001b[0m\n\u001b[0;32m    363\u001b[0m             \u001b[1;32melse\u001b[0m\u001b[1;33m:\u001b[0m\u001b[1;33m\u001b[0m\u001b[1;33m\u001b[0m\u001b[0m\n\u001b[1;32m--> 364\u001b[1;33m                 \u001b[0mdata\u001b[0m \u001b[1;33m=\u001b[0m \u001b[0msanitize_array\u001b[0m\u001b[1;33m(\u001b[0m\u001b[0mdata\u001b[0m\u001b[1;33m,\u001b[0m \u001b[0mindex\u001b[0m\u001b[1;33m,\u001b[0m \u001b[0mdtype\u001b[0m\u001b[1;33m,\u001b[0m \u001b[0mcopy\u001b[0m\u001b[1;33m,\u001b[0m \u001b[0mraise_cast_failure\u001b[0m\u001b[1;33m=\u001b[0m\u001b[1;32mTrue\u001b[0m\u001b[1;33m)\u001b[0m\u001b[1;33m\u001b[0m\u001b[1;33m\u001b[0m\u001b[0m\n\u001b[0m\u001b[0;32m    365\u001b[0m \u001b[1;33m\u001b[0m\u001b[0m\n\u001b[0;32m    366\u001b[0m                 \u001b[0mdata\u001b[0m \u001b[1;33m=\u001b[0m \u001b[0mSingleBlockManager\u001b[0m\u001b[1;33m.\u001b[0m\u001b[0mfrom_array\u001b[0m\u001b[1;33m(\u001b[0m\u001b[0mdata\u001b[0m\u001b[1;33m,\u001b[0m \u001b[0mindex\u001b[0m\u001b[1;33m)\u001b[0m\u001b[1;33m\u001b[0m\u001b[1;33m\u001b[0m\u001b[0m\n",
      "\u001b[1;32m~\\anaconda3\\lib\\site-packages\\pandas\\core\\construction.py\u001b[0m in \u001b[0;36msanitize_array\u001b[1;34m(data, index, dtype, copy, raise_cast_failure)\u001b[0m\n\u001b[0;32m    543\u001b[0m                 \u001b[0msubarr\u001b[0m \u001b[1;33m=\u001b[0m \u001b[0mnp\u001b[0m\u001b[1;33m.\u001b[0m\u001b[0marray\u001b[0m\u001b[1;33m(\u001b[0m\u001b[0mdata\u001b[0m\u001b[1;33m,\u001b[0m \u001b[0mdtype\u001b[0m\u001b[1;33m=\u001b[0m\u001b[0mobject\u001b[0m\u001b[1;33m,\u001b[0m \u001b[0mcopy\u001b[0m\u001b[1;33m=\u001b[0m\u001b[0mcopy\u001b[0m\u001b[1;33m)\u001b[0m\u001b[1;33m\u001b[0m\u001b[1;33m\u001b[0m\u001b[0m\n\u001b[0;32m    544\u001b[0m \u001b[1;33m\u001b[0m\u001b[0m\n\u001b[1;32m--> 545\u001b[1;33m         \u001b[0mis_object_or_str_dtype\u001b[0m \u001b[1;33m=\u001b[0m \u001b[0mis_object_dtype\u001b[0m\u001b[1;33m(\u001b[0m\u001b[0mdtype\u001b[0m\u001b[1;33m)\u001b[0m \u001b[1;32mor\u001b[0m \u001b[0mis_string_dtype\u001b[0m\u001b[1;33m(\u001b[0m\u001b[0mdtype\u001b[0m\u001b[1;33m)\u001b[0m\u001b[1;33m\u001b[0m\u001b[1;33m\u001b[0m\u001b[0m\n\u001b[0m\u001b[0;32m    546\u001b[0m         \u001b[1;32mif\u001b[0m \u001b[0mis_object_dtype\u001b[0m\u001b[1;33m(\u001b[0m\u001b[0msubarr\u001b[0m\u001b[1;33m.\u001b[0m\u001b[0mdtype\u001b[0m\u001b[1;33m)\u001b[0m \u001b[1;32mand\u001b[0m \u001b[1;32mnot\u001b[0m \u001b[0mis_object_or_str_dtype\u001b[0m\u001b[1;33m:\u001b[0m\u001b[1;33m\u001b[0m\u001b[1;33m\u001b[0m\u001b[0m\n\u001b[0;32m    547\u001b[0m             \u001b[0minferred\u001b[0m \u001b[1;33m=\u001b[0m \u001b[0mlib\u001b[0m\u001b[1;33m.\u001b[0m\u001b[0minfer_dtype\u001b[0m\u001b[1;33m(\u001b[0m\u001b[0msubarr\u001b[0m\u001b[1;33m,\u001b[0m \u001b[0mskipna\u001b[0m\u001b[1;33m=\u001b[0m\u001b[1;32mFalse\u001b[0m\u001b[1;33m)\u001b[0m\u001b[1;33m\u001b[0m\u001b[1;33m\u001b[0m\u001b[0m\n",
      "\u001b[1;32m~\\anaconda3\\lib\\site-packages\\pandas\\core\\dtypes\\common.py\u001b[0m in \u001b[0;36mis_object_dtype\u001b[1;34m(arr_or_dtype)\u001b[0m\n\u001b[0;32m    226\u001b[0m     \u001b[1;32mFalse\u001b[0m\u001b[1;33m\u001b[0m\u001b[1;33m\u001b[0m\u001b[0m\n\u001b[0;32m    227\u001b[0m     \"\"\"\n\u001b[1;32m--> 228\u001b[1;33m     \u001b[1;32mreturn\u001b[0m \u001b[0m_is_dtype_type\u001b[0m\u001b[1;33m(\u001b[0m\u001b[0marr_or_dtype\u001b[0m\u001b[1;33m,\u001b[0m \u001b[0mclasses\u001b[0m\u001b[1;33m(\u001b[0m\u001b[0mnp\u001b[0m\u001b[1;33m.\u001b[0m\u001b[0mobject_\u001b[0m\u001b[1;33m)\u001b[0m\u001b[1;33m)\u001b[0m\u001b[1;33m\u001b[0m\u001b[1;33m\u001b[0m\u001b[0m\n\u001b[0m\u001b[0;32m    229\u001b[0m \u001b[1;33m\u001b[0m\u001b[0m\n\u001b[0;32m    230\u001b[0m \u001b[1;33m\u001b[0m\u001b[0m\n",
      "\u001b[1;32m~\\anaconda3\\lib\\site-packages\\pandas\\core\\dtypes\\common.py\u001b[0m in \u001b[0;36m_is_dtype_type\u001b[1;34m(arr_or_dtype, condition)\u001b[0m\n\u001b[0;32m   1608\u001b[0m \u001b[1;33m\u001b[0m\u001b[0m\n\u001b[0;32m   1609\u001b[0m \u001b[1;33m\u001b[0m\u001b[0m\n\u001b[1;32m-> 1610\u001b[1;33m \u001b[1;32mdef\u001b[0m \u001b[0m_is_dtype_type\u001b[0m\u001b[1;33m(\u001b[0m\u001b[0marr_or_dtype\u001b[0m\u001b[1;33m,\u001b[0m \u001b[0mcondition\u001b[0m\u001b[1;33m)\u001b[0m \u001b[1;33m->\u001b[0m \u001b[0mbool\u001b[0m\u001b[1;33m:\u001b[0m\u001b[1;33m\u001b[0m\u001b[1;33m\u001b[0m\u001b[0m\n\u001b[0m\u001b[0;32m   1611\u001b[0m     \"\"\"\n\u001b[0;32m   1612\u001b[0m     \u001b[0mReturn\u001b[0m \u001b[0ma\u001b[0m \u001b[0mboolean\u001b[0m \u001b[1;32mif\u001b[0m \u001b[0mthe\u001b[0m \u001b[0mcondition\u001b[0m \u001b[1;32mis\u001b[0m \u001b[0msatisfied\u001b[0m \u001b[1;32mfor\u001b[0m \u001b[0mthe\u001b[0m \u001b[0marr_or_dtype\u001b[0m\u001b[1;33m.\u001b[0m\u001b[1;33m\u001b[0m\u001b[1;33m\u001b[0m\u001b[0m\n",
      "\u001b[1;31mKeyboardInterrupt\u001b[0m: "
     ]
    }
   ],
   "source": [
    "new_time_diff = []\n",
    "for i in no_consec.index:\n",
    "    try:\n",
    "        if ((no_consec.iloc[i]['EquipmentID'] != no_consec.iloc[i-1]['EquipmentID']) & (no_consec.iloc[i]['derate_cumulative'] == no_consec.iloc[i-1]['derate_cumulative'])):\n",
    "            no_consec.loc[i, 'time_diff_next_h'] = 0\n",
    "        elif (no_consec.iloc[i]['EquipmentID'] == no_consec.iloc[i-1]['EquipmentID']) & (no_consec.iloc[i]['derate_cumu_diff']==1):\n",
    "            no_consec.loc[i, 'time_diff_next_h'] = 0\n",
    "        else:\n",
    "            pass\n",
    "    except IndexError:\n",
    "        pass"
   ]
  },
  {
   "cell_type": "markdown",
   "id": "acd092ad",
   "metadata": {},
   "source": [
    "**looking at Equipment IDs that have a high number of Derates**"
   ]
  },
  {
   "cell_type": "code",
   "execution_count": null,
   "id": "28ca174e",
   "metadata": {},
   "outputs": [],
   "source": [
    "subset = ['EventTimeStamp',\n",
    "          'EquipmentID',\n",
    "          'full_derate', \n",
    "          'derate_cumulative',\n",
    "          'derate_cumu_diff',\n",
    "          'time_diff_next_h',\n",
    "          'new_time_diff',\n",
    "         #'hours_until_derate',\n",
    "         'next_timestamp',\n",
    "         'updated_time']"
   ]
  },
  {
   "cell_type": "code",
   "execution_count": null,
   "id": "fd1214aa",
   "metadata": {},
   "outputs": [],
   "source": [
    "condition = [~no_consec['EquipmentID'].isin(trucks_with_derate),\n",
    "             no_consec['EquipmentID'].isin(trucks_with_derate)]\n",
    "choice = [np.nan, no_consec['time_diff_next_h']]\n",
    "no_consec['updated_time'] = np.select(condition, choice)"
   ]
  },
  {
   "cell_type": "code",
   "execution_count": null,
   "id": "379d318e",
   "metadata": {},
   "outputs": [],
   "source": [
    "highest_cumu = highest_cumu.reset_index(drop = True)"
   ]
  },
  {
   "cell_type": "code",
   "execution_count": null,
   "id": "7214c055",
   "metadata": {},
   "outputs": [],
   "source": [
    "for i in highest_cumu.index:\n",
    "    no_consec.loc[((no_consec['EquipmentID'] == highest_cumu.iloc[i].EquipmentID) \n",
    "        & (no_consec['derate_cumulative'] == highest_cumu.iloc[i].derate_cumulative) &\n",
    "           (no_consec['full_derate'] == 0)), 'updated_time'] = 0"
   ]
  },
  {
   "cell_type": "code",
   "execution_count": null,
   "id": "a3881941",
   "metadata": {},
   "outputs": [],
   "source": [
    "no_consec.loc[no_consec['full_derate'] == 1, 'updated_time'] = 0"
   ]
  },
  {
   "cell_type": "code",
   "execution_count": null,
   "id": "335f27f9",
   "metadata": {},
   "outputs": [],
   "source": [
    "no_consec['new_time_diff']=no_consec.iloc[::-1].groupby(['EquipmentID','derate_cumulative'])['updated_time'].cumsum(axis=0)"
   ]
  },
  {
   "cell_type": "code",
   "execution_count": null,
   "id": "e79508d5",
   "metadata": {},
   "outputs": [],
   "source": []
  },
  {
   "cell_type": "code",
   "execution_count": null,
   "id": "15777990",
   "metadata": {
    "scrolled": true
   },
   "outputs": [],
   "source": [
    "no_consec.iloc[[1653,1654]]"
   ]
  },
  {
   "cell_type": "code",
   "execution_count": null,
   "id": "56a707c6",
   "metadata": {},
   "outputs": [],
   "source": [
    "len(set(full_data_filt['EquipmentID'].unique().tolist())-set(trucks_with_derate))"
   ]
  },
  {
   "cell_type": "markdown",
   "id": "bf291df7",
   "metadata": {},
   "source": [
    "- 852 trucks have not had a derate\n",
    "- 191 have had derate"
   ]
  },
  {
   "cell_type": "code",
   "execution_count": null,
   "id": "3f4e460e",
   "metadata": {},
   "outputs": [],
   "source": [
    "#no_consec.to_csv('../data/no_consec.csv')"
   ]
  }
 ],
 "metadata": {
  "kernelspec": {
   "display_name": "Python 3",
   "language": "python",
   "name": "python3"
  },
  "language_info": {
   "codemirror_mode": {
    "name": "ipython",
    "version": 3
   },
   "file_extension": ".py",
   "mimetype": "text/x-python",
   "name": "python",
   "nbconvert_exporter": "python",
   "pygments_lexer": "ipython3",
   "version": "3.8.8"
  }
 },
 "nbformat": 4,
 "nbformat_minor": 5
}
