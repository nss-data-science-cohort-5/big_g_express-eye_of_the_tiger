{
 "cells": [
  {
   "cell_type": "code",
   "execution_count": 1,
   "metadata": {},
   "outputs": [],
   "source": [
    "import pandas as pd\n",
    "import numpy as np\n",
    "import matplotlib.pyplot as plt\n",
    "import seaborn as sns"
   ]
  },
  {
   "cell_type": "code",
   "execution_count": 2,
   "metadata": {},
   "outputs": [
    {
     "name": "stderr",
     "output_type": "stream",
     "text": [
      "C:\\Users\\hjrko\\anaconda3\\lib\\site-packages\\IPython\\core\\interactiveshell.py:3146: DtypeWarning: Columns (15) have mixed types.Specify dtype option on import or set low_memory=False.\n",
      "  has_raised = await self.run_ast_nodes(code_ast.body, cell_name,\n"
     ]
    }
   ],
   "source": [
    "j_faults = pd.read_csv('../data/J1939Faults.csv').reset_index(drop = True)\n",
    "onboard_data = pd.read_csv('../data/VehicleDiagnosticOnboardData.csv').reset_index(drop = True)\n",
    "fault_codes = pd.read_excel('../data/Service Fault Codes_1_0_0_167.xlsx').reset_index(drop = True)\n",
    "vehicle = pd.read_excel('../data/Vehicle_Make.xlsx').reset_index(drop = True)"
   ]
  },
  {
   "cell_type": "code",
   "execution_count": 3,
   "metadata": {},
   "outputs": [],
   "source": [
    "ob_data = onboard_data.pivot(index='FaultId', columns='Name',values = 'Value').rename_axis(None)\n",
    "pd.set_option('display.max_columns', None)\n",
    "ob_data.reset_index(inplace=True)\n",
    "ob_data = ob_data.rename(columns = {'index':'FaultId'})"
   ]
  },
  {
   "cell_type": "code",
   "execution_count": 4,
   "metadata": {},
   "outputs": [],
   "source": [
    "ob_faults = pd.merge(j_faults, ob_data, how='left', left_on='RecordID', right_on='FaultId')"
   ]
  },
  {
   "cell_type": "code",
   "execution_count": 5,
   "metadata": {},
   "outputs": [],
   "source": [
    "ob_faults['null_count'] = ob_faults.isnull().sum(axis=1)"
   ]
  },
  {
   "cell_type": "code",
   "execution_count": null,
   "metadata": {},
   "outputs": [],
   "source": [
    "problem_cols = ['AcceleratorPedal',\n",
    " 'BarometricPressure',\n",
    " 'CruiseControlActive',\n",
    " 'CruiseControlSetSpeed',\n",
    " 'DistanceLtd',\n",
    " 'EngineCoolantTemperature',\n",
    " 'EngineLoad',\n",
    " 'EngineOilPressure',\n",
    " 'EngineOilTemperature',\n",
    " 'EngineRpm',\n",
    " 'EngineTimeLtd',\n",
    " 'FuelLevel',\n",
    " 'FuelLtd',\n",
    " 'FuelRate',\n",
    " 'FuelTemperature',\n",
    " 'IgnStatus',\n",
    " 'IntakeManifoldTemperature',\n",
    " 'LampStatus',\n",
    " 'ParkingBrake',\n",
    " 'ServiceDistance',\n",
    " 'Speed',\n",
    " 'SwitchedBatteryVoltage',\n",
    " 'Throttle',\n",
    " 'TurboBoostPressure']\n",
    "\n",
    "for x in problem_cols:\n",
    "    try:\n",
    "        ob_faults[x] = ob_faults[x].str.replace(',','').astype(float)\n",
    "    except ValueError:\n",
    "        ob_faults[x] = ob_faults[x]\n",
    "ob_faults['EventTimeStamp'] =  pd.to_datetime(ob_faults['EventTimeStamp'], format='%Y%m%d %H:%M:%S.%f')\n",
    "ob_faults['LocationTimeStamp'] =  pd.to_datetime(ob_faults['EventTimeStamp'], format='%Y%m%d %H:%M:%S.%f')"
   ]
  },
  {
   "cell_type": "code",
   "execution_count": null,
   "metadata": {},
   "outputs": [],
   "source": [
    "ob_faults['repair_center'] = False\n",
    "ob_faults.loc[(ob_faults['Longitude'].astype('str').str.contains(r'-86.43\\d+')) & (ob_faults['Latitude'].astype('str').str.contains(r'36.06\\d+')), 'repair_center'] = True\n",
    "ob_faults.loc[(ob_faults['Longitude'].astype('str').str.contains(r'-86.44\\d+')) & (ob_faults['Latitude'].astype('str').str.contains(r'35.58\\d+')), 'repair_center'] = True\n",
    "ob_faults.loc[(ob_faults['Longitude'].astype('str').str.contains(r'-83.17\\d+')) & (ob_faults['Latitude'].astype('str').str.contains(r'36.19\\d+')), 'repair_center'] = True\n",
    "ob_faults = ob_faults[ob_faults['repair_center']==False]"
   ]
  },
  {
   "cell_type": "code",
   "execution_count": null,
   "metadata": {
    "scrolled": true
   },
   "outputs": [],
   "source": [
    "ob_faults['EquipmentID'] = ob_faults['EquipmentID'].astype(str)\n",
    "ob_faults = ob_faults[ob_faults['EquipmentID'].str.len()  < 6]"
   ]
  },
  {
   "cell_type": "code",
   "execution_count": null,
   "metadata": {},
   "outputs": [],
   "source": [
    "combined_df = ob_faults.drop(columns=['actionDescription','repair_center','faultValue'])"
   ]
  },
  {
   "cell_type": "code",
   "execution_count": null,
   "metadata": {
    "scrolled": false
   },
   "outputs": [],
   "source": [
    "combined_df"
   ]
  },
  {
   "cell_type": "code",
   "execution_count": null,
   "metadata": {
    "scrolled": true
   },
   "outputs": [],
   "source": [
    "condensed_df = combined_df.sort_values(['EquipmentID', 'EventTimeStamp', 'spn', 'fmi'])[[\n",
    "    'EquipmentID', \n",
    "    'EventTimeStamp', \n",
    "    'eventDescription', \n",
    "    'spn', \n",
    "    'fmi', \n",
    "    'active', \n",
    "    'activeTransitionCount', \n",
    "    'AcceleratorPedal',\n",
    "    'BarometricPressure',\n",
    "    'CruiseControlActive',\n",
    "    'CruiseControlSetSpeed',\n",
    "    'DistanceLtd',\n",
    "    'EngineCoolantTemperature',\n",
    "    'EngineLoad',\n",
    "    'EngineOilPressure',\n",
    "    'EngineOilTemperature',\n",
    "    'EngineRpm',\n",
    "    'EngineTimeLtd',\n",
    "    'FuelLevel',\n",
    "    'FuelLtd',\n",
    "    'FuelRate',\n",
    "    'FuelTemperature',\n",
    "    'IgnStatus',\n",
    "    'IntakeManifoldTemperature',\n",
    "    'LampStatus',\n",
    "    'ParkingBrake',\n",
    "    'ServiceDistance',\n",
    "    'Speed',\n",
    "    'SwitchedBatteryVoltage',\n",
    "    'Throttle',\n",
    "    'TurboBoostPressure']]\n",
    "\n",
    "mask = ((condensed_df['spn'].shift(-1) == 5246))\n",
    "\n",
    "spn_prior_to_derate = condensed_df[mask]\n",
    "spn_prior_to_derate = spn_prior_to_derate[~(spn_prior_to_derate['spn'] == 5246)]\n",
    "\n",
    "spn_count = spn_prior_to_derate.groupby('spn').count().reset_index().sort_values('EquipmentID', ascending=False).head(20)"
   ]
  },
  {
   "cell_type": "code",
   "execution_count": null,
   "metadata": {},
   "outputs": [],
   "source": [
    "spn_prior_to_derate"
   ]
  },
  {
   "cell_type": "code",
   "execution_count": null,
   "metadata": {
    "scrolled": false
   },
   "outputs": [],
   "source": [
    "problem_cols_num = [\n",
    "    'AcceleratorPedal',\n",
    "    'BarometricPressure',\n",
    "    'CruiseControlSetSpeed',\n",
    "    'DistanceLtd',\n",
    "    'EngineCoolantTemperature',\n",
    "    'EngineLoad',\n",
    "    'EngineOilPressure',\n",
    "    'EngineOilTemperature',\n",
    "    'EngineRpm',\n",
    "    'EngineTimeLtd',\n",
    "    'FuelLevel',\n",
    "    'FuelLtd',\n",
    "    'FuelRate',\n",
    "    'FuelTemperature',\n",
    "    'IntakeManifoldTemperature',\n",
    "    'LampStatus',\n",
    "    'ServiceDistance',\n",
    "    'Speed',\n",
    "    'SwitchedBatteryVoltage',\n",
    "    'Throttle',\n",
    "    'TurboBoostPressure']\n",
    "\n",
    "for x in problem_cols_num:\n",
    "    spn_prior_to_derate.hist(x)\n",
    "    plt.xlabel('Value')\n",
    "    plt.ylabel('Bin Count')\n",
    "    plt.title(x)"
   ]
  },
  {
   "cell_type": "code",
   "execution_count": null,
   "metadata": {},
   "outputs": [],
   "source": [
    "fontsize = 40\n",
    "\n",
    "fig, ax = plt.subplots(figsize=(60, 32))\n",
    "sns.barplot(x = 'spn', \n",
    "            y = 'EquipmentID', \n",
    "            data = spn_count, \n",
    "            dodge = False, \n",
    "            palette = \"deep\",\n",
    "            ax = ax,\n",
    "            order = spn_count.sort_values('EquipmentID', ascending=False).spn)\n",
    "\n",
    "plt.xlabel('SPN Code', fontsize = fontsize)\n",
    "plt.xticks(fontsize = fontsize - 2)\n",
    "\n",
    "plt.ylabel('Occurence Count', fontsize = fontsize)\n",
    "plt.yticks(fontsize = fontsize - 2)\n",
    "\n",
    "plt.title('Count oF SPNs that Occur Prior to a Full Derate', fontsize = fontsize);"
   ]
  }
 ],
 "metadata": {
  "kernelspec": {
   "display_name": "Python 3",
   "language": "python",
   "name": "python3"
  },
  "language_info": {
   "codemirror_mode": {
    "name": "ipython",
    "version": 3
   },
   "file_extension": ".py",
   "mimetype": "text/x-python",
   "name": "python",
   "nbconvert_exporter": "python",
   "pygments_lexer": "ipython3",
   "version": "3.8.5"
  }
 },
 "nbformat": 4,
 "nbformat_minor": 4
}
